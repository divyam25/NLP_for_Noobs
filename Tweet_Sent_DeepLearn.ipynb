{
  "nbformat": 4,
  "nbformat_minor": 0,
  "metadata": {
    "colab": {
      "name": "Tweet-Sent-DeepLearn.ipynb",
      "version": "0.3.2",
      "views": {},
      "default_view": {},
      "provenance": [],
      "collapsed_sections": []
    },
    "kernelspec": {
      "name": "python3",
      "display_name": "Python 3"
    },
    "accelerator": "GPU"
  },
  "cells": [
    {
      "metadata": {
        "id": "B_JJF3RzZB1F",
        "colab_type": "code",
        "colab": {
          "autoexec": {
            "startup": false,
            "wait_interval": 0
          },
          "base_uri": "https://localhost:8080/",
          "height": 34
        },
        "outputId": "7dc2a068-f1d5-4c6b-b696-9883dc61bedf",
        "executionInfo": {
          "status": "ok",
          "timestamp": 1529425016181,
          "user_tz": -330,
          "elapsed": 2178,
          "user": {
            "displayName": "Divyam Srivastava",
            "photoUrl": "//lh3.googleusercontent.com/-WZcfnp5pNtk/AAAAAAAAAAI/AAAAAAAAAXo/yGhBvt-FNho/s50-c-k-no/photo.jpg",
            "userId": "112121959970026521392"
          }
        }
      },
      "cell_type": "code",
      "source": [
        "from keras.models import Sequential   #DeepLearning Libraries\n",
        "from keras.layers import Dense\n",
        "from keras.layers import Dropout\n",
        "from keras.layers import Flatten\n",
        "from keras.layers import Embedding\n",
        "from keras.optimizers import Adam\n",
        "from keras.layers.convolutional import Conv1D\n",
        "from keras.layers.convolutional import MaxPooling1D\n",
        "from keras.utils import np_utils"
      ],
      "execution_count": 1,
      "outputs": [
        {
          "output_type": "stream",
          "text": [
            "Using TensorFlow backend.\n"
          ],
          "name": "stderr"
        }
      ]
    },
    {
      "metadata": {
        "id": "6V_bgAR5P_1z",
        "colab_type": "code",
        "colab": {
          "autoexec": {
            "startup": false,
            "wait_interval": 0
          }
        }
      },
      "cell_type": "code",
      "source": [
        "from keras.preprocessing.text import Tokenizer   #preprocessing\n",
        "from keras.preprocessing.sequence import pad_sequences\n",
        "import pandas as pd\n",
        "import numpy as np\n",
        "import nltk\n",
        "from nltk.corpus import stopwords \n",
        "from nltk.tokenize import word_tokenize\n",
        "from sklearn.model_selection import train_test_split\n",
        "import matplotlib.pyplot as plt"
      ],
      "execution_count": 0,
      "outputs": []
    },
    {
      "metadata": {
        "id": "Y3xdppU_N6fi",
        "colab_type": "code",
        "colab": {
          "autoexec": {
            "startup": false,
            "wait_interval": 0
          }
        }
      },
      "cell_type": "code",
      "source": [
        "!pip install -U -q PyDrive\n",
        "from pydrive.auth import GoogleAuth\n",
        "from pydrive.drive import GoogleDrive\n",
        "from google.colab import auth\n",
        "from oauth2client.client import GoogleCredentials"
      ],
      "execution_count": 0,
      "outputs": []
    },
    {
      "metadata": {
        "id": "ax8HHEgfOLSX",
        "colab_type": "code",
        "colab": {
          "autoexec": {
            "startup": false,
            "wait_interval": 0
          }
        }
      },
      "cell_type": "code",
      "source": [
        "auth.authenticate_user()\n",
        "gauth = GoogleAuth()\n",
        "gauth.credentials = GoogleCredentials.get_application_default()\n",
        "drive = GoogleDrive(gauth)"
      ],
      "execution_count": 0,
      "outputs": []
    },
    {
      "metadata": {
        "id": "XdauYsxaOe02",
        "colab_type": "code",
        "colab": {
          "autoexec": {
            "startup": false,
            "wait_interval": 0
          }
        }
      },
      "cell_type": "code",
      "source": [
        "train_image = drive.CreateFile({'id' : '18keD3rntMU1ErXYXYR6jKTe2VXZPa0VU'})\n",
        "train_image.GetContentFile('train_pos_full.txt')\n",
        "train_image = drive.CreateFile({'id' : '1_E6c3Qe05hwSZzy0goTYrmB2wb-5Y2tb'})\n",
        "train_image.GetContentFile('train_neg_full.txt')"
      ],
      "execution_count": 0,
      "outputs": []
    },
    {
      "metadata": {
        "id": "oZ6_GsxjPnTP",
        "colab_type": "code",
        "colab": {
          "autoexec": {
            "startup": false,
            "wait_interval": 0
          }
        }
      },
      "cell_type": "code",
      "source": [
        "pos_tweet = [line.rstrip('\\n') for line in open('train_pos_full.txt')] #Eureka\n",
        "neg_tweet = [line.rstrip('\\n') for line in open('train_neg_full.txt')]"
      ],
      "execution_count": 0,
      "outputs": []
    },
    {
      "metadata": {
        "id": "7iIaBf8mXYBi",
        "colab_type": "code",
        "colab": {
          "autoexec": {
            "startup": false,
            "wait_interval": 0
          },
          "base_uri": "https://localhost:8080/",
          "height": 102
        },
        "outputId": "480bb308-9000-49e5-e7f2-360d3d4c1e82",
        "executionInfo": {
          "status": "ok",
          "timestamp": 1529425041465,
          "user_tz": -330,
          "elapsed": 1729,
          "user": {
            "displayName": "Divyam Srivastava",
            "photoUrl": "//lh3.googleusercontent.com/-WZcfnp5pNtk/AAAAAAAAAAI/AAAAAAAAAXo/yGhBvt-FNho/s50-c-k-no/photo.jpg",
            "userId": "112121959970026521392"
          }
        }
      },
      "cell_type": "code",
      "source": [
        "neg_tweet[:5]"
      ],
      "execution_count": 7,
      "outputs": [
        {
          "output_type": "execute_result",
          "data": {
            "text/plain": [
              "['vinco tresorpack 6 ( difficulty 10 of 10 object : disassemble and reassemble the wooden pieces this beautiful wo ... <url>',\n",
              " 'glad i dot have taks tomorrow ! ! #thankful #startho',\n",
              " '1-3 vs celtics in the regular season = were fucked if we play them in the playoffs',\n",
              " \"<user> i could actually kill that girl i'm so sorry ! ! !\",\n",
              " '<user> <user> <user> i find that very hard to believe im afraid']"
            ]
          },
          "metadata": {
            "tags": []
          },
          "execution_count": 7
        }
      ]
    },
    {
      "metadata": {
        "id": "eZUWEoNqXltM",
        "colab_type": "code",
        "colab": {
          "autoexec": {
            "startup": false,
            "wait_interval": 0
          },
          "base_uri": "https://localhost:8080/",
          "height": 102
        },
        "outputId": "775be798-50b5-4caf-c06d-2785bd727241",
        "executionInfo": {
          "status": "ok",
          "timestamp": 1529425042851,
          "user_tz": -330,
          "elapsed": 1105,
          "user": {
            "displayName": "Divyam Srivastava",
            "photoUrl": "//lh3.googleusercontent.com/-WZcfnp5pNtk/AAAAAAAAAAI/AAAAAAAAAXo/yGhBvt-FNho/s50-c-k-no/photo.jpg",
            "userId": "112121959970026521392"
          }
        }
      },
      "cell_type": "code",
      "source": [
        "pos_tweet[:5]"
      ],
      "execution_count": 8,
      "outputs": [
        {
          "output_type": "execute_result",
          "data": {
            "text/plain": [
              "['<user> i dunno justin read my mention or not . only justin and god knows about that , but i hope you will follow me #believe 15',\n",
              " \"because your logic is so dumb , i won't even crop out your name or your photo . tsk . <url>\",\n",
              " '\" <user> just put casper in a box ! \" looved the battle ! #crakkbitch',\n",
              " \"<user> <user> thanks sir > > don't trip lil mama ... just keep doin ya thang !\",\n",
              " 'visiting my brother tmr is the bestest birthday gift eveerrr ! ! !']"
            ]
          },
          "metadata": {
            "tags": []
          },
          "execution_count": 8
        }
      ]
    },
    {
      "metadata": {
        "id": "RvtmXMhsBrUK",
        "colab_type": "code",
        "colab": {
          "autoexec": {
            "startup": false,
            "wait_interval": 0
          },
          "base_uri": "https://localhost:8080/",
          "height": 289
        },
        "outputId": "3f7b2e6d-a32a-4d49-948b-56409674185f",
        "executionInfo": {
          "status": "ok",
          "timestamp": 1529425054709,
          "user_tz": -330,
          "elapsed": 11676,
          "user": {
            "displayName": "Divyam Srivastava",
            "photoUrl": "//lh3.googleusercontent.com/-WZcfnp5pNtk/AAAAAAAAAAI/AAAAAAAAAXo/yGhBvt-FNho/s50-c-k-no/photo.jpg",
            "userId": "112121959970026521392"
          }
        }
      },
      "cell_type": "code",
      "source": [
        "nltk.download()"
      ],
      "execution_count": 9,
      "outputs": [
        {
          "output_type": "stream",
          "text": [
            "NLTK Downloader\n",
            "---------------------------------------------------------------------------\n",
            "    d) Download   l) List    u) Update   c) Config   h) Help   q) Quit\n",
            "---------------------------------------------------------------------------\n",
            "Downloader> d\n",
            "\n",
            "Download which package (l=list; x=cancel)?\n",
            "  Identifier> stopwords\n",
            "    Downloading package stopwords to /content/nltk_data...\n",
            "      Package stopwords is already up-to-date!\n",
            "\n",
            "---------------------------------------------------------------------------\n",
            "    d) Download   l) List    u) Update   c) Config   h) Help   q) Quit\n",
            "---------------------------------------------------------------------------\n",
            "Downloader> q\n"
          ],
          "name": "stdout"
        },
        {
          "output_type": "execute_result",
          "data": {
            "text/plain": [
              "True"
            ]
          },
          "metadata": {
            "tags": []
          },
          "execution_count": 9
        }
      ]
    },
    {
      "metadata": {
        "id": "RLpfj4Ch927D",
        "colab_type": "code",
        "colab": {
          "autoexec": {
            "startup": false,
            "wait_interval": 0
          }
        }
      },
      "cell_type": "code",
      "source": [
        "posneg_no_stop = []\n",
        "bwords = stopwords.words('english')[:45]\n",
        "bwords.append('<user>')"
      ],
      "execution_count": 0,
      "outputs": []
    },
    {
      "metadata": {
        "id": "qJGEVW8fv7Nh",
        "colab_type": "code",
        "colab": {
          "autoexec": {
            "startup": false,
            "wait_interval": 0
          },
          "base_uri": "https://localhost:8080/",
          "height": 799
        },
        "outputId": "247cd050-d5ae-4465-c58b-a32b9ab8f66d",
        "executionInfo": {
          "status": "ok",
          "timestamp": 1529425062262,
          "user_tz": -330,
          "elapsed": 1118,
          "user": {
            "displayName": "Divyam Srivastava",
            "photoUrl": "//lh3.googleusercontent.com/-WZcfnp5pNtk/AAAAAAAAAAI/AAAAAAAAAXo/yGhBvt-FNho/s50-c-k-no/photo.jpg",
            "userId": "112121959970026521392"
          }
        }
      },
      "cell_type": "code",
      "source": [
        "bwords"
      ],
      "execution_count": 11,
      "outputs": [
        {
          "output_type": "execute_result",
          "data": {
            "text/plain": [
              "['i',\n",
              " 'me',\n",
              " 'my',\n",
              " 'myself',\n",
              " 'we',\n",
              " 'our',\n",
              " 'ours',\n",
              " 'ourselves',\n",
              " 'you',\n",
              " \"you're\",\n",
              " \"you've\",\n",
              " \"you'll\",\n",
              " \"you'd\",\n",
              " 'your',\n",
              " 'yours',\n",
              " 'yourself',\n",
              " 'yourselves',\n",
              " 'he',\n",
              " 'him',\n",
              " 'his',\n",
              " 'himself',\n",
              " 'she',\n",
              " \"she's\",\n",
              " 'her',\n",
              " 'hers',\n",
              " 'herself',\n",
              " 'it',\n",
              " \"it's\",\n",
              " 'its',\n",
              " 'itself',\n",
              " 'they',\n",
              " 'them',\n",
              " 'their',\n",
              " 'theirs',\n",
              " 'themselves',\n",
              " 'what',\n",
              " 'which',\n",
              " 'who',\n",
              " 'whom',\n",
              " 'this',\n",
              " 'that',\n",
              " \"that'll\",\n",
              " 'these',\n",
              " 'those',\n",
              " 'am',\n",
              " '<user>']"
            ]
          },
          "metadata": {
            "tags": []
          },
          "execution_count": 11
        }
      ]
    },
    {
      "metadata": {
        "id": "YAY-ik-qzKKt",
        "colab_type": "code",
        "colab": {
          "autoexec": {
            "startup": false,
            "wait_interval": 0
          }
        }
      },
      "cell_type": "code",
      "source": [
        "for line in pos_tweet :   #Removing stopwords from postive tweets\n",
        "  sum = ''\n",
        "  for w in line.split() :\n",
        "    if w not in bwords :\n",
        "      sum = sum + w + ' '\n",
        "  posneg_no_stop.append(sum.strip())\n",
        "\n",
        "for line in neg_tweet :    #Removing stopwords from negative tweets\n",
        "  sum = ''\n",
        "  for w in line.split() :\n",
        "    if w not in bwords :\n",
        "      sum = sum + w + ' '\n",
        "  posneg_no_stop.append(sum.strip())"
      ],
      "execution_count": 0,
      "outputs": []
    },
    {
      "metadata": {
        "id": "gp8bDc-HOpk3",
        "colab_type": "text"
      },
      "cell_type": "markdown",
      "source": [
        "**All tweets appended to a single list so that a single tokenizer could be used on all samples**"
      ]
    },
    {
      "metadata": {
        "id": "yUycRbK2Z1nV",
        "colab_type": "code",
        "colab": {
          "autoexec": {
            "startup": false,
            "wait_interval": 0
          },
          "base_uri": "https://localhost:8080/",
          "height": 102
        },
        "outputId": "8a9b9312-ef40-4d1e-eeb3-dd800367b215",
        "executionInfo": {
          "status": "ok",
          "timestamp": 1529425124319,
          "user_tz": -330,
          "elapsed": 1188,
          "user": {
            "displayName": "Divyam Srivastava",
            "photoUrl": "//lh3.googleusercontent.com/-WZcfnp5pNtk/AAAAAAAAAAI/AAAAAAAAAXo/yGhBvt-FNho/s50-c-k-no/photo.jpg",
            "userId": "112121959970026521392"
          }
        }
      },
      "cell_type": "code",
      "source": [
        "posneg_no_stop[0:5]"
      ],
      "execution_count": 13,
      "outputs": [
        {
          "output_type": "execute_result",
          "data": {
            "text/plain": [
              "['dunno justin read mention or not . only justin and god knows about , but hope will follow #believe 15',\n",
              " \"because logic is so dumb , won't even crop out name or photo . tsk . <url>\",\n",
              " '\" just put casper in a box ! \" looved the battle ! #crakkbitch',\n",
              " \"thanks sir > > don't trip lil mama ... just keep doin ya thang !\",\n",
              " 'visiting brother tmr is the bestest birthday gift eveerrr ! ! !']"
            ]
          },
          "metadata": {
            "tags": []
          },
          "execution_count": 13
        }
      ]
    },
    {
      "metadata": {
        "id": "pDbUA4wKOgMT",
        "colab_type": "code",
        "colab": {
          "autoexec": {
            "startup": false,
            "wait_interval": 0
          },
          "base_uri": "https://localhost:8080/",
          "height": 102
        },
        "outputId": "acaf542d-cd8d-4c5b-fa18-dff359240ef3",
        "executionInfo": {
          "status": "ok",
          "timestamp": 1529425126693,
          "user_tz": -330,
          "elapsed": 1605,
          "user": {
            "displayName": "Divyam Srivastava",
            "photoUrl": "//lh3.googleusercontent.com/-WZcfnp5pNtk/AAAAAAAAAAI/AAAAAAAAAXo/yGhBvt-FNho/s50-c-k-no/photo.jpg",
            "userId": "112121959970026521392"
          }
        }
      },
      "cell_type": "code",
      "source": [
        "posneg_no_stop[1250000:1250005]"
      ],
      "execution_count": 14,
      "outputs": [
        {
          "output_type": "execute_result",
          "data": {
            "text/plain": [
              "['vinco tresorpack 6 ( difficulty 10 of 10 object : disassemble and reassemble the wooden pieces beautiful wo ... <url>',\n",
              " 'glad dot have taks tomorrow ! ! #thankful #startho',\n",
              " '1-3 vs celtics in the regular season = were fucked if play in the playoffs',\n",
              " \"could actually kill girl i'm so sorry ! ! !\",\n",
              " 'find very hard to believe im afraid']"
            ]
          },
          "metadata": {
            "tags": []
          },
          "execution_count": 14
        }
      ]
    },
    {
      "metadata": {
        "id": "mx2pRy4MZVcc",
        "colab_type": "text"
      },
      "cell_type": "markdown",
      "source": [
        "**Text tokenization & sequence development for feeding to the ConvNets**"
      ]
    },
    {
      "metadata": {
        "id": "BcRw4E1xwdfa",
        "colab_type": "code",
        "colab": {
          "autoexec": {
            "startup": false,
            "wait_interval": 0
          }
        }
      },
      "cell_type": "code",
      "source": [
        "token = Tokenizer()"
      ],
      "execution_count": 0,
      "outputs": []
    },
    {
      "metadata": {
        "id": "CDBBcCmd7dU6",
        "colab_type": "code",
        "colab": {
          "autoexec": {
            "startup": false,
            "wait_interval": 0
          }
        }
      },
      "cell_type": "code",
      "source": [
        "token.fit_on_texts(posneg_no_stop)"
      ],
      "execution_count": 0,
      "outputs": []
    },
    {
      "metadata": {
        "id": "_NVhYC9AC6Z6",
        "colab_type": "code",
        "colab": {
          "autoexec": {
            "startup": false,
            "wait_interval": 0
          },
          "base_uri": "https://localhost:8080/",
          "height": 34
        },
        "outputId": "b950fc32-3445-413f-df28-23e8d77f41dc",
        "executionInfo": {
          "status": "ok",
          "timestamp": 1529425189648,
          "user_tz": -330,
          "elapsed": 1145,
          "user": {
            "displayName": "Divyam Srivastava",
            "photoUrl": "//lh3.googleusercontent.com/-WZcfnp5pNtk/AAAAAAAAAAI/AAAAAAAAAXo/yGhBvt-FNho/s50-c-k-no/photo.jpg",
            "userId": "112121959970026521392"
          }
        }
      },
      "cell_type": "code",
      "source": [
        "len(token.word_index)"
      ],
      "execution_count": 17,
      "outputs": [
        {
          "output_type": "execute_result",
          "data": {
            "text/plain": [
              "508211"
            ]
          },
          "metadata": {
            "tags": []
          },
          "execution_count": 17
        }
      ]
    },
    {
      "metadata": {
        "id": "TZpQS-hPD7C5",
        "colab_type": "code",
        "colab": {
          "autoexec": {
            "startup": false,
            "wait_interval": 0
          }
        }
      },
      "cell_type": "code",
      "source": [
        "seq = token.texts_to_sequences(posneg_no_stop)"
      ],
      "execution_count": 0,
      "outputs": []
    },
    {
      "metadata": {
        "id": "MUubO3mNQ-n1",
        "colab_type": "code",
        "colab": {
          "autoexec": {
            "startup": false,
            "wait_interval": 0
          },
          "base_uri": "https://localhost:8080/",
          "height": 748
        },
        "outputId": "759509af-b41f-46cf-9be3-a25a8eecdf0f",
        "executionInfo": {
          "status": "ok",
          "timestamp": 1529425243587,
          "user_tz": -330,
          "elapsed": 1167,
          "user": {
            "displayName": "Divyam Srivastava",
            "photoUrl": "//lh3.googleusercontent.com/-WZcfnp5pNtk/AAAAAAAAAAI/AAAAAAAAAXo/yGhBvt-FNho/s50-c-k-no/photo.jpg",
            "userId": "112121959970026521392"
          }
        }
      },
      "cell_type": "code",
      "source": [
        "seq[:10]   #word vectors"
      ],
      "execution_count": 19,
      "outputs": [
        {
          "output_type": "execute_result",
          "data": {
            "text/plain": [
              "[[1821,\n",
              "  493,\n",
              "  391,\n",
              "  1029,\n",
              "  77,\n",
              "  20,\n",
              "  88,\n",
              "  493,\n",
              "  5,\n",
              "  243,\n",
              "  785,\n",
              "  60,\n",
              "  16,\n",
              "  107,\n",
              "  46,\n",
              "  38,\n",
              "  344,\n",
              "  475],\n",
              " [151, 3091, 7, 11, 1705, 268, 133, 10430, 44, 323, 77, 590, 6374, 4],\n",
              " [17, 310, 18592, 9, 3, 660, 93866, 1, 2283, 209588],\n",
              " [56, 1822, 43, 834, 565, 1390, 17, 225, 1795, 275, 3132],\n",
              " [4321, 473, 2399, 7, 1, 4746, 166, 1060, 74253],\n",
              " [551, 209589, 152, 711, 2, 195, 35, 45],\n",
              " [8675,\n",
              "  108,\n",
              "  8,\n",
              "  18231,\n",
              "  6,\n",
              "  121,\n",
              "  280,\n",
              "  93867,\n",
              "  121,\n",
              "  1737,\n",
              "  3078,\n",
              "  1524,\n",
              "  26,\n",
              "  729,\n",
              "  111634,\n",
              "  26,\n",
              "  21464],\n",
              " [4229, 263, 77, 2925, 4229, 18, 25, 55114, 12, 852, 17040],\n",
              " [350, 95, 13, 3900, 9, 3, 424],\n",
              " [7, 167, 5705]]"
            ]
          },
          "metadata": {
            "tags": []
          },
          "execution_count": 19
        }
      ]
    },
    {
      "metadata": {
        "id": "A3gQw90qIZyX",
        "colab_type": "code",
        "colab": {
          "autoexec": {
            "startup": false,
            "wait_interval": 0
          }
        }
      },
      "cell_type": "code",
      "source": [
        "p = 0\n",
        "for i in seq :\n",
        "  if len(i) > p :\n",
        "    p = len(i)"
      ],
      "execution_count": 0,
      "outputs": []
    },
    {
      "metadata": {
        "id": "eomsjut4Igdm",
        "colab_type": "code",
        "colab": {
          "autoexec": {
            "startup": false,
            "wait_interval": 0
          }
        }
      },
      "cell_type": "code",
      "source": [
        "seq = pad_sequences(seq,maxlen = p+1,padding = 'post', value = 0)"
      ],
      "execution_count": 0,
      "outputs": []
    },
    {
      "metadata": {
        "id": "-7boSxv2I38g",
        "colab_type": "code",
        "colab": {
          "autoexec": {
            "startup": false,
            "wait_interval": 0
          },
          "base_uri": "https://localhost:8080/",
          "height": 34
        },
        "outputId": "a4636ef1-f9eb-466d-f842-181961c3a280",
        "executionInfo": {
          "status": "ok",
          "timestamp": 1529425274139,
          "user_tz": -330,
          "elapsed": 1146,
          "user": {
            "displayName": "Divyam Srivastava",
            "photoUrl": "//lh3.googleusercontent.com/-WZcfnp5pNtk/AAAAAAAAAAI/AAAAAAAAAXo/yGhBvt-FNho/s50-c-k-no/photo.jpg",
            "userId": "112121959970026521392"
          }
        }
      },
      "cell_type": "code",
      "source": [
        "seq.shape"
      ],
      "execution_count": 22,
      "outputs": [
        {
          "output_type": "execute_result",
          "data": {
            "text/plain": [
              "(2500000, 67)"
            ]
          },
          "metadata": {
            "tags": []
          },
          "execution_count": 22
        }
      ]
    },
    {
      "metadata": {
        "id": "maPH8i7VJuLh",
        "colab_type": "code",
        "colab": {
          "autoexec": {
            "startup": false,
            "wait_interval": 0
          },
          "base_uri": "https://localhost:8080/",
          "height": 136
        },
        "outputId": "78e839d4-39bd-45a7-e4f2-23819fed7a76",
        "executionInfo": {
          "status": "ok",
          "timestamp": 1529425275321,
          "user_tz": -330,
          "elapsed": 918,
          "user": {
            "displayName": "Divyam Srivastava",
            "photoUrl": "//lh3.googleusercontent.com/-WZcfnp5pNtk/AAAAAAAAAAI/AAAAAAAAAXo/yGhBvt-FNho/s50-c-k-no/photo.jpg",
            "userId": "112121959970026521392"
          }
        }
      },
      "cell_type": "code",
      "source": [
        "seq"
      ],
      "execution_count": 23,
      "outputs": [
        {
          "output_type": "execute_result",
          "data": {
            "text/plain": [
              "array([[ 1821,   493,   391, ...,     0,     0,     0],\n",
              "       [  151,  3091,     7, ...,     0,     0,     0],\n",
              "       [   17,   310, 18592, ...,     0,     0,     0],\n",
              "       ...,\n",
              "       [  201,   105,    16, ...,     0,     0,     0],\n",
              "       [ 8754,  3292,  2083, ...,     0,     0,     0],\n",
              "       [ 7430,  1739,    43, ...,     0,     0,     0]], dtype=int32)"
            ]
          },
          "metadata": {
            "tags": []
          },
          "execution_count": 23
        }
      ]
    },
    {
      "metadata": {
        "id": "e0JZlhFTZs29",
        "colab_type": "text"
      },
      "cell_type": "markdown",
      "source": [
        "**Data Preparation and train test split   (1 : positive tweet  | 0 : Negative Tweet)  **"
      ]
    },
    {
      "metadata": {
        "id": "W930xqMbSQx3",
        "colab_type": "code",
        "colab": {
          "autoexec": {
            "startup": false,
            "wait_interval": 0
          }
        }
      },
      "cell_type": "code",
      "source": [
        "X = np.asmatrix(seq)"
      ],
      "execution_count": 0,
      "outputs": []
    },
    {
      "metadata": {
        "id": "ImkanC9FTXmS",
        "colab_type": "code",
        "colab": {
          "autoexec": {
            "startup": false,
            "wait_interval": 0
          }
        }
      },
      "cell_type": "code",
      "source": [
        "y = np.ones((1250000,1))"
      ],
      "execution_count": 0,
      "outputs": []
    },
    {
      "metadata": {
        "id": "4FGzD3n0TYmd",
        "colab_type": "code",
        "colab": {
          "autoexec": {
            "startup": false,
            "wait_interval": 0
          }
        }
      },
      "cell_type": "code",
      "source": [
        "y = np.append(y,np.zeros((1250000,1)))"
      ],
      "execution_count": 0,
      "outputs": []
    },
    {
      "metadata": {
        "id": "-GNNTkvjTg8F",
        "colab_type": "code",
        "colab": {
          "autoexec": {
            "startup": false,
            "wait_interval": 0
          }
        }
      },
      "cell_type": "code",
      "source": [
        "y = np.asmatrix(np.reshape(y,(2500000,1)))"
      ],
      "execution_count": 0,
      "outputs": []
    },
    {
      "metadata": {
        "id": "4G92IhPbWO-B",
        "colab_type": "code",
        "colab": {
          "autoexec": {
            "startup": false,
            "wait_interval": 0
          }
        }
      },
      "cell_type": "code",
      "source": [
        "X_train, X_test, y_train, y_test = train_test_split(X, y, test_size = 0.2, random_state = 92)"
      ],
      "execution_count": 0,
      "outputs": []
    },
    {
      "metadata": {
        "id": "-GDG3DA-aCDX",
        "colab_type": "code",
        "colab": {
          "autoexec": {
            "startup": false,
            "wait_interval": 0
          }
        }
      },
      "cell_type": "code",
      "source": [
        "X_train = np.array(X_train).reshape((2000000,67,1))\n",
        "X_test = np.array(X_test).reshape((500000,67,1))\n"
      ],
      "execution_count": 0,
      "outputs": []
    },
    {
      "metadata": {
        "id": "VoPv4-YFy-Fg",
        "colab_type": "code",
        "colab": {
          "autoexec": {
            "startup": false,
            "wait_interval": 0
          }
        }
      },
      "cell_type": "code",
      "source": [
        "X_train_E = np.array(X_train).reshape((2000000,67))\n",
        "X_test_E = np.array(X_test).reshape((500000,67))"
      ],
      "execution_count": 0,
      "outputs": []
    },
    {
      "metadata": {
        "id": "Mw5VQRNmh4y4",
        "colab_type": "code",
        "colab": {
          "autoexec": {
            "startup": false,
            "wait_interval": 0
          },
          "base_uri": "https://localhost:8080/",
          "height": 34
        },
        "outputId": "72568bd7-6d37-43c9-fa11-21c7269a683c",
        "executionInfo": {
          "status": "ok",
          "timestamp": 1529425290644,
          "user_tz": -330,
          "elapsed": 946,
          "user": {
            "displayName": "Divyam Srivastava",
            "photoUrl": "//lh3.googleusercontent.com/-WZcfnp5pNtk/AAAAAAAAAAI/AAAAAAAAAXo/yGhBvt-FNho/s50-c-k-no/photo.jpg",
            "userId": "112121959970026521392"
          }
        }
      },
      "cell_type": "code",
      "source": [
        "X_train_E.shape"
      ],
      "execution_count": 31,
      "outputs": [
        {
          "output_type": "execute_result",
          "data": {
            "text/plain": [
              "(2000000, 67)"
            ]
          },
          "metadata": {
            "tags": []
          },
          "execution_count": 31
        }
      ]
    },
    {
      "metadata": {
        "id": "qRu3GUXNZ8PB",
        "colab_type": "text"
      },
      "cell_type": "markdown",
      "source": [
        "**ConvNet Architectures (without embedding layer)**"
      ]
    },
    {
      "metadata": {
        "id": "FkKIW6EGaRmt",
        "colab_type": "code",
        "colab": {
          "autoexec": {
            "startup": false,
            "wait_interval": 0
          },
          "base_uri": "https://localhost:8080/",
          "height": 425
        },
        "outputId": "9330c8ef-52c2-415c-9f26-ff62ad0e328b",
        "executionInfo": {
          "status": "ok",
          "timestamp": 1529238023743,
          "user_tz": -330,
          "elapsed": 1687,
          "user": {
            "displayName": "Divyam Srivastava",
            "photoUrl": "//lh3.googleusercontent.com/-WZcfnp5pNtk/AAAAAAAAAAI/AAAAAAAAAXo/yGhBvt-FNho/s50-c-k-no/photo.jpg",
            "userId": "112121959970026521392"
          }
        }
      },
      "cell_type": "code",
      "source": [
        "model = Sequential()\n",
        "model.add(Conv1D(32, 3, input_shape=(65,1), padding='same', activation='relu'))\n",
        "model.add(MaxPooling1D(pool_size=2))\n",
        "\n",
        "model.add(Conv1D(64, 3, padding='same', activation='relu'))\n",
        "model.add(MaxPooling1D(pool_size=2))\n",
        "\n",
        "model.add(Flatten())\n",
        "model.add(Dense(800, activation='relu'))\n",
        "model.add(Dropout(0.5))\n",
        "model.add(Dense(1, activation='sigmoid'))\n",
        "model.compile(loss='binary_crossentropy', optimizer='adam', metrics=['accuracy'])\n",
        "print(model.summary())"
      ],
      "execution_count": 116,
      "outputs": [
        {
          "output_type": "stream",
          "text": [
            "_________________________________________________________________\n",
            "Layer (type)                 Output Shape              Param #   \n",
            "=================================================================\n",
            "conv1d_61 (Conv1D)           (None, 65, 32)            128       \n",
            "_________________________________________________________________\n",
            "max_pooling1d_61 (MaxPooling (None, 32, 32)            0         \n",
            "_________________________________________________________________\n",
            "conv1d_62 (Conv1D)           (None, 32, 64)            6208      \n",
            "_________________________________________________________________\n",
            "max_pooling1d_62 (MaxPooling (None, 16, 64)            0         \n",
            "_________________________________________________________________\n",
            "flatten_10 (Flatten)         (None, 1024)              0         \n",
            "_________________________________________________________________\n",
            "dense_33 (Dense)             (None, 800)               820000    \n",
            "_________________________________________________________________\n",
            "dropout_25 (Dropout)         (None, 800)               0         \n",
            "_________________________________________________________________\n",
            "dense_34 (Dense)             (None, 1)                 801       \n",
            "=================================================================\n",
            "Total params: 827,137\n",
            "Trainable params: 827,137\n",
            "Non-trainable params: 0\n",
            "_________________________________________________________________\n",
            "None\n"
          ],
          "name": "stdout"
        }
      ]
    },
    {
      "metadata": {
        "id": "F4mtS5t9cHRr",
        "colab_type": "code",
        "colab": {
          "autoexec": {
            "startup": false,
            "wait_interval": 0
          },
          "base_uri": "https://localhost:8080/",
          "height": 241
        },
        "outputId": "4eb3afd8-1fad-46e8-8178-09dff8d245a0",
        "executionInfo": {
          "status": "ok",
          "timestamp": 1529238224692,
          "user_tz": -330,
          "elapsed": 183054,
          "user": {
            "displayName": "Divyam Srivastava",
            "photoUrl": "//lh3.googleusercontent.com/-WZcfnp5pNtk/AAAAAAAAAAI/AAAAAAAAAXo/yGhBvt-FNho/s50-c-k-no/photo.jpg",
            "userId": "112121959970026521392"
          }
        }
      },
      "cell_type": "code",
      "source": [
        "model.fit(X_train, y_train, validation_split = 0.2, epochs=5, batch_size=1000)"
      ],
      "execution_count": 117,
      "outputs": [
        {
          "output_type": "stream",
          "text": [
            "Train on 1600000 samples, validate on 400000 samples\n",
            "Epoch 1/5\n",
            "1600000/1600000 [==============================] - 38s 24us/step - loss: 3.8436 - acc: 0.5744 - val_loss: 0.6604 - val_acc: 0.6003\n",
            "Epoch 2/5\n",
            " 163000/1600000 [==>...........................] - ETA: 30s - loss: 0.6641 - acc: 0.5975"
          ],
          "name": "stdout"
        },
        {
          "output_type": "stream",
          "text": [
            "1600000/1600000 [==============================] - 36s 23us/step - loss: 0.6628 - acc: 0.6004 - val_loss: 0.6600 - val_acc: 0.6019\n",
            "Epoch 3/5\n",
            " 720000/1600000 [============>.................] - ETA: 18s - loss: 0.6632 - acc: 0.6007"
          ],
          "name": "stdout"
        },
        {
          "output_type": "stream",
          "text": [
            "1600000/1600000 [==============================] - 36s 22us/step - loss: 0.6624 - acc: 0.6012 - val_loss: 0.6589 - val_acc: 0.6022\n",
            "Epoch 4/5\n",
            " 951000/1600000 [================>.............] - ETA: 13s - loss: 0.6598 - acc: 0.6012"
          ],
          "name": "stdout"
        },
        {
          "output_type": "stream",
          "text": [
            "1600000/1600000 [==============================] - 36s 22us/step - loss: 0.6590 - acc: 0.6014 - val_loss: 0.6520 - val_acc: 0.6027\n",
            "Epoch 5/5\n",
            "1043000/1600000 [==================>...........] - ETA: 11s - loss: 0.6548 - acc: 0.6017"
          ],
          "name": "stdout"
        },
        {
          "output_type": "stream",
          "text": [
            "1600000/1600000 [==============================] - 36s 22us/step - loss: 0.6537 - acc: 0.6015 - val_loss: 0.6451 - val_acc: 0.6024\n"
          ],
          "name": "stdout"
        },
        {
          "output_type": "execute_result",
          "data": {
            "text/plain": [
              "<keras.callbacks.History at 0x7f40cd3acb38>"
            ]
          },
          "metadata": {
            "tags": []
          },
          "execution_count": 117
        }
      ]
    },
    {
      "metadata": {
        "id": "QCDnz_iChmF1",
        "colab_type": "code",
        "colab": {
          "autoexec": {
            "startup": false,
            "wait_interval": 0
          },
          "base_uri": "https://localhost:8080/",
          "height": 34
        },
        "outputId": "8007053d-ca3c-4e29-f024-2f8385a70d5d",
        "executionInfo": {
          "status": "ok",
          "timestamp": 1529238278273,
          "user_tz": -330,
          "elapsed": 49817,
          "user": {
            "displayName": "Divyam Srivastava",
            "photoUrl": "//lh3.googleusercontent.com/-WZcfnp5pNtk/AAAAAAAAAAI/AAAAAAAAAXo/yGhBvt-FNho/s50-c-k-no/photo.jpg",
            "userId": "112121959970026521392"
          }
        }
      },
      "cell_type": "code",
      "source": [
        "scores = model.evaluate(X_test,y_test,verbose = 0)\n",
        "print(\"Accuracy: %.2f%%\" % (scores[1]*100))"
      ],
      "execution_count": 118,
      "outputs": [
        {
          "output_type": "stream",
          "text": [
            "Accuracy: 60.16%\n"
          ],
          "name": "stdout"
        }
      ]
    },
    {
      "metadata": {
        "id": "vVLyxdAFubCk",
        "colab_type": "text"
      },
      "cell_type": "markdown",
      "source": [
        "**ConvNet Architectures (with embedding layer)**"
      ]
    },
    {
      "metadata": {
        "id": "XvZ-peXZwXj2",
        "colab_type": "code",
        "colab": {
          "autoexec": {
            "startup": false,
            "wait_interval": 0
          }
        }
      },
      "cell_type": "code",
      "source": [
        "token.word_index"
      ],
      "execution_count": 0,
      "outputs": []
    },
    {
      "metadata": {
        "id": "jnSyJwChulVV",
        "colab_type": "code",
        "colab": {
          "autoexec": {
            "startup": false,
            "wait_interval": 0
          },
          "base_uri": "https://localhost:8080/",
          "height": 459
        },
        "outputId": "d527bd00-dd60-47f7-e1d1-de04836f3d6b",
        "executionInfo": {
          "status": "ok",
          "timestamp": 1529425307612,
          "user_tz": -330,
          "elapsed": 1140,
          "user": {
            "displayName": "Divyam Srivastava",
            "photoUrl": "//lh3.googleusercontent.com/-WZcfnp5pNtk/AAAAAAAAAAI/AAAAAAAAAXo/yGhBvt-FNho/s50-c-k-no/photo.jpg",
            "userId": "112121959970026521392"
          }
        }
      },
      "cell_type": "code",
      "source": [
        "model1 = Sequential()\n",
        "model1.add(Embedding(508211, 25, input_length=67))\n",
        "model1.add(Conv1D(32, 3, input_shape=(67,25), padding='same', activation='relu'))\n",
        "model1.add(MaxPooling1D(pool_size=2))\n",
        "model1.add(Conv1D(64, 3, padding='same', activation='relu'))\n",
        "model1.add(MaxPooling1D(pool_size=2))\n",
        "model1.add(Flatten())\n",
        "model1.add(Dense(800, activation='relu'))\n",
        "model1.add(Dropout(0.5))\n",
        "model1.add(Dense(1, activation='sigmoid'))\n",
        "model1.compile(loss='binary_crossentropy', optimizer='adam', metrics=['accuracy'])\n",
        "print(model1.summary())"
      ],
      "execution_count": 32,
      "outputs": [
        {
          "output_type": "stream",
          "text": [
            "_________________________________________________________________\n",
            "Layer (type)                 Output Shape              Param #   \n",
            "=================================================================\n",
            "embedding_1 (Embedding)      (None, 67, 25)            12705275  \n",
            "_________________________________________________________________\n",
            "conv1d_1 (Conv1D)            (None, 67, 32)            2432      \n",
            "_________________________________________________________________\n",
            "max_pooling1d_1 (MaxPooling1 (None, 33, 32)            0         \n",
            "_________________________________________________________________\n",
            "conv1d_2 (Conv1D)            (None, 33, 64)            6208      \n",
            "_________________________________________________________________\n",
            "max_pooling1d_2 (MaxPooling1 (None, 16, 64)            0         \n",
            "_________________________________________________________________\n",
            "flatten_1 (Flatten)          (None, 1024)              0         \n",
            "_________________________________________________________________\n",
            "dense_1 (Dense)              (None, 800)               820000    \n",
            "_________________________________________________________________\n",
            "dropout_1 (Dropout)          (None, 800)               0         \n",
            "_________________________________________________________________\n",
            "dense_2 (Dense)              (None, 1)                 801       \n",
            "=================================================================\n",
            "Total params: 13,534,716\n",
            "Trainable params: 13,534,716\n",
            "Non-trainable params: 0\n",
            "_________________________________________________________________\n",
            "None\n"
          ],
          "name": "stdout"
        }
      ]
    },
    {
      "metadata": {
        "id": "xP-YwqPux7uB",
        "colab_type": "code",
        "colab": {
          "autoexec": {
            "startup": false,
            "wait_interval": 0
          },
          "base_uri": "https://localhost:8080/",
          "height": 224
        },
        "outputId": "ff884738-dd8c-4f00-83a1-09d95e1d24ae",
        "executionInfo": {
          "status": "ok",
          "timestamp": 1529425624240,
          "user_tz": -330,
          "elapsed": 311111,
          "user": {
            "displayName": "Divyam Srivastava",
            "photoUrl": "//lh3.googleusercontent.com/-WZcfnp5pNtk/AAAAAAAAAAI/AAAAAAAAAXo/yGhBvt-FNho/s50-c-k-no/photo.jpg",
            "userId": "112121959970026521392"
          }
        }
      },
      "cell_type": "code",
      "source": [
        "history = model1.fit(X_train_E, y_train, validation_split = 0.2, epochs=5, batch_size=1000)"
      ],
      "execution_count": 33,
      "outputs": [
        {
          "output_type": "stream",
          "text": [
            "Train on 1600000 samples, validate on 400000 samples\n",
            "Epoch 1/5\n",
            "1319000/1600000 [=======================>......] - ETA: 10s - loss: 0.3836 - acc: 0.8210"
          ],
          "name": "stdout"
        },
        {
          "output_type": "stream",
          "text": [
            "1600000/1600000 [==============================] - 64s 40us/step - loss: 0.3771 - acc: 0.8248 - val_loss: 0.3452 - val_acc: 0.8433\n",
            "Epoch 2/5\n",
            " 763000/1600000 [=============>................] - ETA: 30s - loss: 0.2955 - acc: 0.8703"
          ],
          "name": "stdout"
        },
        {
          "output_type": "stream",
          "text": [
            "1600000/1600000 [==============================] - 62s 38us/step - loss: 0.2969 - acc: 0.8695 - val_loss: 0.3427 - val_acc: 0.8467\n",
            "Epoch 3/5\n",
            " 549000/1600000 [=========>....................] - ETA: 39s - loss: 0.2412 - acc: 0.8972"
          ],
          "name": "stdout"
        },
        {
          "output_type": "stream",
          "text": [
            "1600000/1600000 [==============================] - 61s 38us/step - loss: 0.2475 - acc: 0.8939 - val_loss: 0.3635 - val_acc: 0.8433\n",
            "Epoch 4/5\n",
            " 467000/1600000 [=======>......................] - ETA: 41s - loss: 0.2055 - acc: 0.9133"
          ],
          "name": "stdout"
        },
        {
          "output_type": "stream",
          "text": [
            "1600000/1600000 [==============================] - 61s 38us/step - loss: 0.2147 - acc: 0.9090 - val_loss: 0.3962 - val_acc: 0.8400\n",
            "Epoch 5/5\n",
            " 435000/1600000 [=======>......................] - ETA: 42s - loss: 0.1828 - acc: 0.9232"
          ],
          "name": "stdout"
        },
        {
          "output_type": "stream",
          "text": [
            "1600000/1600000 [==============================] - 61s 38us/step - loss: 0.1922 - acc: 0.9188 - val_loss: 0.4289 - val_acc: 0.8381\n"
          ],
          "name": "stdout"
        }
      ]
    },
    {
      "metadata": {
        "id": "ZdREBEGuyZsh",
        "colab_type": "code",
        "colab": {
          "autoexec": {
            "startup": false,
            "wait_interval": 0
          },
          "base_uri": "https://localhost:8080/",
          "height": 34
        },
        "outputId": "4c3258c7-3bea-49fa-b35d-0ae3a846bc45",
        "executionInfo": {
          "status": "ok",
          "timestamp": 1529425671971,
          "user_tz": -330,
          "elapsed": 46060,
          "user": {
            "displayName": "Divyam Srivastava",
            "photoUrl": "//lh3.googleusercontent.com/-WZcfnp5pNtk/AAAAAAAAAAI/AAAAAAAAAXo/yGhBvt-FNho/s50-c-k-no/photo.jpg",
            "userId": "112121959970026521392"
          }
        }
      },
      "cell_type": "code",
      "source": [
        "scores = model1.evaluate(X_test_E,y_test,verbose = 0)\n",
        "print(\"Accuracy: %.2f%%\" % (scores[1]*100))"
      ],
      "execution_count": 34,
      "outputs": [
        {
          "output_type": "stream",
          "text": [
            "Accuracy: 83.83%\n"
          ],
          "name": "stdout"
        }
      ]
    },
    {
      "metadata": {
        "id": "E_u4GuIU0j1h",
        "colab_type": "code",
        "colab": {
          "autoexec": {
            "startup": false,
            "wait_interval": 0
          },
          "base_uri": "https://localhost:8080/",
          "height": 376
        },
        "outputId": "e2af9d88-815b-4191-df2d-09b7ad9af7cf",
        "executionInfo": {
          "status": "ok",
          "timestamp": 1529425673400,
          "user_tz": -330,
          "elapsed": 1361,
          "user": {
            "displayName": "Divyam Srivastava",
            "photoUrl": "//lh3.googleusercontent.com/-WZcfnp5pNtk/AAAAAAAAAAI/AAAAAAAAAXo/yGhBvt-FNho/s50-c-k-no/photo.jpg",
            "userId": "112121959970026521392"
          }
        }
      },
      "cell_type": "code",
      "source": [
        "plt.plot(history.history['acc'])\n",
        "plt.plot(history.history['val_acc'])\n",
        "plt.title('model accuracy')\n",
        "plt.ylabel('accuracy')\n",
        "plt.xlabel('epoch')\n",
        "plt.legend(['train', 'validation'], loc='best')\n",
        "plt.show()\n"
      ],
      "execution_count": 35,
      "outputs": [
        {
          "output_type": "display_data",
          "data": {
            "image/png": "[encoded data removed]",
            "text/plain": [
              "<matplotlib.figure.Figure at 0x7f202008b0b8>"
            ]
          },
          "metadata": {
            "tags": []
          }
        }
      ]
    },
    {
      "metadata": {
        "id": "wOFyRUjezlgh",
        "colab_type": "text"
      },
      "cell_type": "markdown",
      "source": [
        "**Overfitting at its best...  ¯\\_(ツ)_/¯**"
      ]
    },
    {
      "metadata": {
        "id": "CZ-RVwNz3wdb",
        "colab_type": "code",
        "colab": {
          "autoexec": {
            "startup": false,
            "wait_interval": 0
          }
        }
      },
      "cell_type": "code",
      "source": [
        ""
      ],
      "execution_count": 0,
      "outputs": []
    }
  ]
}