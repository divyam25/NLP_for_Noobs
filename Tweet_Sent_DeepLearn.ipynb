{
  "nbformat": 4,
  "nbformat_minor": 0,
  "metadata": {
    "colab": {
      "name": "Tweet-Sent-DeepLearn.ipynb",
      "version": "0.3.2",
      "views": {},
      "default_view": {},
      "provenance": [],
      "collapsed_sections": []
    },
    "kernelspec": {
      "name": "python3",
      "display_name": "Python 3"
    },
    "accelerator": "GPU"
  },
  "cells": [
    {
      "metadata": {
        "id": "B_JJF3RzZB1F",
        "colab_type": "code",
        "colab": {
          "autoexec": {
            "startup": false,
            "wait_interval": 0
          },
          "base_uri": "https://localhost:8080/",
          "height": 34
        },
        "outputId": "5d75cd5c-194b-49fc-f06f-e3b4dd1faa46",
        "executionInfo": {
          "status": "ok",
          "timestamp": 1529578572580,
          "user_tz": -330,
          "elapsed": 8561,
          "user": {
            "displayName": "Divyam Srivastava",
            "photoUrl": "//lh3.googleusercontent.com/-WZcfnp5pNtk/AAAAAAAAAAI/AAAAAAAAAXo/yGhBvt-FNho/s50-c-k-no/photo.jpg",
            "userId": "112121959970026521392"
          }
        }
      },
      "cell_type": "code",
      "source": [
        "from keras.models import Sequential   #DeepLearning Libraries\n",
        "from keras.layers import Dense\n",
        "from keras.layers import Dropout\n",
        "from keras.layers import Flatten\n",
        "from keras.layers import Embedding\n",
        "from keras.optimizers import Adam\n",
        "from keras.layers.convolutional import Conv1D\n",
        "from keras.layers.convolutional import MaxPooling1D\n",
        "from keras.utils import np_utils"
      ],
      "execution_count": 1,
      "outputs": [
        {
          "output_type": "stream",
          "text": [
            "Using TensorFlow backend.\n"
          ],
          "name": "stderr"
        }
      ]
    },
    {
      "metadata": {
        "id": "6V_bgAR5P_1z",
        "colab_type": "code",
        "colab": {
          "autoexec": {
            "startup": false,
            "wait_interval": 0
          }
        }
      },
      "cell_type": "code",
      "source": [
        "from keras.preprocessing.text import Tokenizer   #preprocessing\n",
        "from keras.preprocessing.sequence import pad_sequences\n",
        "import pandas as pd\n",
        "import numpy as np\n",
        "import nltk\n",
        "from nltk.corpus import stopwords \n",
        "from nltk.tokenize import word_tokenize\n",
        "from sklearn.model_selection import train_test_split\n",
        "import matplotlib.pyplot as plt\n",
        "import scipy.stats as st"
      ],
      "execution_count": 0,
      "outputs": []
    },
    {
      "metadata": {
        "id": "Y3xdppU_N6fi",
        "colab_type": "code",
        "colab": {
          "autoexec": {
            "startup": false,
            "wait_interval": 0
          }
        }
      },
      "cell_type": "code",
      "source": [
        "!pip install -U -q PyDrive\n",
        "from pydrive.auth import GoogleAuth\n",
        "from pydrive.drive import GoogleDrive\n",
        "from google.colab import auth\n",
        "from oauth2client.client import GoogleCredentials"
      ],
      "execution_count": 0,
      "outputs": []
    },
    {
      "metadata": {
        "id": "ax8HHEgfOLSX",
        "colab_type": "code",
        "colab": {
          "autoexec": {
            "startup": false,
            "wait_interval": 0
          }
        }
      },
      "cell_type": "code",
      "source": [
        "auth.authenticate_user()\n",
        "gauth = GoogleAuth()\n",
        "gauth.credentials = GoogleCredentials.get_application_default()\n",
        "drive = GoogleDrive(gauth)"
      ],
      "execution_count": 0,
      "outputs": []
    },
    {
      "metadata": {
        "id": "XdauYsxaOe02",
        "colab_type": "code",
        "colab": {
          "autoexec": {
            "startup": false,
            "wait_interval": 0
          }
        }
      },
      "cell_type": "code",
      "source": [
        "train_image = drive.CreateFile({'id' : '18keD3rntMU1ErXYXYR6jKTe2VXZPa0VU'})\n",
        "train_image.GetContentFile('train_pos_full.txt')\n",
        "train_image = drive.CreateFile({'id' : '1_E6c3Qe05hwSZzy0goTYrmB2wb-5Y2tb'})\n",
        "train_image.GetContentFile('train_neg_full.txt')"
      ],
      "execution_count": 0,
      "outputs": []
    },
    {
      "metadata": {
        "id": "oZ6_GsxjPnTP",
        "colab_type": "code",
        "colab": {
          "autoexec": {
            "startup": false,
            "wait_interval": 0
          }
        }
      },
      "cell_type": "code",
      "source": [
        "pos_tweet = [line.rstrip('\\n') for line in open('train_pos_full.txt')] #Eureka\n",
        "neg_tweet = [line.rstrip('\\n') for line in open('train_neg_full.txt')]"
      ],
      "execution_count": 0,
      "outputs": []
    },
    {
      "metadata": {
        "id": "7iIaBf8mXYBi",
        "colab_type": "code",
        "colab": {
          "autoexec": {
            "startup": false,
            "wait_interval": 0
          },
          "base_uri": "https://localhost:8080/",
          "height": 102
        },
        "outputId": "28c43ea6-9be3-4cc4-bbb6-57afc15fc6b5",
        "executionInfo": {
          "status": "ok",
          "timestamp": 1529578665320,
          "user_tz": -330,
          "elapsed": 1090,
          "user": {
            "displayName": "Divyam Srivastava",
            "photoUrl": "//lh3.googleusercontent.com/-WZcfnp5pNtk/AAAAAAAAAAI/AAAAAAAAAXo/yGhBvt-FNho/s50-c-k-no/photo.jpg",
            "userId": "112121959970026521392"
          }
        }
      },
      "cell_type": "code",
      "source": [
        "neg_tweet[:5]"
      ],
      "execution_count": 8,
      "outputs": [
        {
          "output_type": "execute_result",
          "data": {
            "text/plain": [
              "['vinco tresorpack 6 ( difficulty 10 of 10 object : disassemble and reassemble the wooden pieces this beautiful wo ... <url>',\n",
              " 'glad i dot have taks tomorrow ! ! #thankful #startho',\n",
              " '1-3 vs celtics in the regular season = were fucked if we play them in the playoffs',\n",
              " \"<user> i could actually kill that girl i'm so sorry ! ! !\",\n",
              " '<user> <user> <user> i find that very hard to believe im afraid']"
            ]
          },
          "metadata": {
            "tags": []
          },
          "execution_count": 8
        }
      ]
    },
    {
      "metadata": {
        "id": "eZUWEoNqXltM",
        "colab_type": "code",
        "colab": {
          "autoexec": {
            "startup": false,
            "wait_interval": 0
          },
          "base_uri": "https://localhost:8080/",
          "height": 102
        },
        "outputId": "4824a636-77be-4a0f-e00c-13b6eea2a6fb",
        "executionInfo": {
          "status": "ok",
          "timestamp": 1529578667265,
          "user_tz": -330,
          "elapsed": 1056,
          "user": {
            "displayName": "Divyam Srivastava",
            "photoUrl": "//lh3.googleusercontent.com/-WZcfnp5pNtk/AAAAAAAAAAI/AAAAAAAAAXo/yGhBvt-FNho/s50-c-k-no/photo.jpg",
            "userId": "112121959970026521392"
          }
        }
      },
      "cell_type": "code",
      "source": [
        "pos_tweet[:5]"
      ],
      "execution_count": 9,
      "outputs": [
        {
          "output_type": "execute_result",
          "data": {
            "text/plain": [
              "['<user> i dunno justin read my mention or not . only justin and god knows about that , but i hope you will follow me #believe 15',\n",
              " \"because your logic is so dumb , i won't even crop out your name or your photo . tsk . <url>\",\n",
              " '\" <user> just put casper in a box ! \" looved the battle ! #crakkbitch',\n",
              " \"<user> <user> thanks sir > > don't trip lil mama ... just keep doin ya thang !\",\n",
              " 'visiting my brother tmr is the bestest birthday gift eveerrr ! ! !']"
            ]
          },
          "metadata": {
            "tags": []
          },
          "execution_count": 9
        }
      ]
    },
    {
      "metadata": {
        "id": "RvtmXMhsBrUK",
        "colab_type": "code",
        "colab": {
          "autoexec": {
            "startup": false,
            "wait_interval": 0
          },
          "base_uri": "https://localhost:8080/",
          "height": 391
        },
        "outputId": "c7aa77aa-50b4-49ca-f5ad-3f072684e7f1",
        "executionInfo": {
          "status": "ok",
          "timestamp": 1529578713520,
          "user_tz": -330,
          "elapsed": 39862,
          "user": {
            "displayName": "Divyam Srivastava",
            "photoUrl": "//lh3.googleusercontent.com/-WZcfnp5pNtk/AAAAAAAAAAI/AAAAAAAAAXo/yGhBvt-FNho/s50-c-k-no/photo.jpg",
            "userId": "112121959970026521392"
          }
        }
      },
      "cell_type": "code",
      "source": [
        "nltk.download()"
      ],
      "execution_count": 10,
      "outputs": [
        {
          "output_type": "stream",
          "text": [
            "NLTK Downloader\n",
            "---------------------------------------------------------------------------\n",
            "    d) Download   l) List    u) Update   c) Config   h) Help   q) Quit\n",
            "---------------------------------------------------------------------------\n",
            "Downloader> d\n",
            "\n",
            "Download which package (l=list; x=cancel)?\n",
            "  Identifier> stopwords\n",
            "    Downloading package stopwords to /content/nltk_data...\n",
            "      Unzipping corpora/stopwords.zip.\n",
            "\n",
            "---------------------------------------------------------------------------\n",
            "    d) Download   l) List    u) Update   c) Config   h) Help   q) Quit\n",
            "---------------------------------------------------------------------------\n",
            "Downloader> stopwords\n",
            "Command 'stopwords' unrecognized\n",
            "\n",
            "---------------------------------------------------------------------------\n",
            "    d) Download   l) List    u) Update   c) Config   h) Help   q) Quit\n",
            "---------------------------------------------------------------------------\n",
            "Downloader> q\n"
          ],
          "name": "stdout"
        },
        {
          "output_type": "execute_result",
          "data": {
            "text/plain": [
              "True"
            ]
          },
          "metadata": {
            "tags": []
          },
          "execution_count": 10
        }
      ]
    },
    {
      "metadata": {
        "id": "5OlraTGSCQxd",
        "colab_type": "text"
      },
      "cell_type": "markdown",
      "source": [
        "**Word-Level Data Prep---------------**"
      ]
    },
    {
      "metadata": {
        "id": "RLpfj4Ch927D",
        "colab_type": "code",
        "colab": {
          "autoexec": {
            "startup": false,
            "wait_interval": 0
          }
        }
      },
      "cell_type": "code",
      "source": [
        "posneg_no_stop = []\n",
        "bwords = stopwords.words('english')[:45]\n",
        "bwords.append('<user>')\n",
        "bwords.append('<url>')"
      ],
      "execution_count": 0,
      "outputs": []
    },
    {
      "metadata": {
        "id": "YAY-ik-qzKKt",
        "colab_type": "code",
        "colab": {
          "autoexec": {
            "startup": false,
            "wait_interval": 0
          }
        }
      },
      "cell_type": "code",
      "source": [
        "for line in pos_tweet :   #Removing stopwords from postive tweets\n",
        "  sum = ''\n",
        "  for w in line.split() :\n",
        "    if w not in bwords :\n",
        "      sum = sum + w + ' '\n",
        "  posneg_no_stop.append(sum.strip())\n",
        "\n",
        "for line in neg_tweet :    #Removing stopwords from negative tweets\n",
        "  sum = ''\n",
        "  for w in line.split() :\n",
        "    if w not in bwords :\n",
        "      sum = sum + w + ' '\n",
        "  posneg_no_stop.append(sum.strip())"
      ],
      "execution_count": 0,
      "outputs": []
    },
    {
      "metadata": {
        "id": "gp8bDc-HOpk3",
        "colab_type": "text"
      },
      "cell_type": "markdown",
      "source": [
        "**All tweets appended to a single list so that a single tokenizer could be used on all samples**"
      ]
    },
    {
      "metadata": {
        "id": "yUycRbK2Z1nV",
        "colab_type": "code",
        "colab": {
          "autoexec": {
            "startup": false,
            "wait_interval": 0
          },
          "base_uri": "https://localhost:8080/",
          "height": 102
        },
        "outputId": "91eca219-b0c4-4596-ef8d-c8abca798c4b",
        "executionInfo": {
          "status": "ok",
          "timestamp": 1529579507857,
          "user_tz": -330,
          "elapsed": 1075,
          "user": {
            "displayName": "Divyam Srivastava",
            "photoUrl": "//lh3.googleusercontent.com/-WZcfnp5pNtk/AAAAAAAAAAI/AAAAAAAAAXo/yGhBvt-FNho/s50-c-k-no/photo.jpg",
            "userId": "112121959970026521392"
          }
        }
      },
      "cell_type": "code",
      "source": [
        "posneg_no_stop[0:5]"
      ],
      "execution_count": 22,
      "outputs": [
        {
          "output_type": "execute_result",
          "data": {
            "text/plain": [
              "['dunno justin read mention or not . only justin and god knows about , but hope will follow #believe 15',\n",
              " \"because logic is so dumb , won't even crop out name or photo . tsk .\",\n",
              " '\" just put casper in a box ! \" looved the battle ! #crakkbitch',\n",
              " \"thanks sir > > don't trip lil mama ... just keep doin ya thang !\",\n",
              " 'visiting brother tmr is the bestest birthday gift eveerrr ! ! !']"
            ]
          },
          "metadata": {
            "tags": []
          },
          "execution_count": 22
        }
      ]
    },
    {
      "metadata": {
        "id": "pDbUA4wKOgMT",
        "colab_type": "code",
        "colab": {
          "autoexec": {
            "startup": false,
            "wait_interval": 0
          },
          "base_uri": "https://localhost:8080/",
          "height": 102
        },
        "outputId": "c865e79e-594b-4735-cca6-59e491b23fd2",
        "executionInfo": {
          "status": "ok",
          "timestamp": 1529429868213,
          "user_tz": -330,
          "elapsed": 1504,
          "user": {
            "displayName": "Divyam Srivastava",
            "photoUrl": "//lh3.googleusercontent.com/-WZcfnp5pNtk/AAAAAAAAAAI/AAAAAAAAAXo/yGhBvt-FNho/s50-c-k-no/photo.jpg",
            "userId": "112121959970026521392"
          }
        }
      },
      "cell_type": "code",
      "source": [
        "posneg_no_stop[1250000:1250005]"
      ],
      "execution_count": 0,
      "outputs": [
        {
          "output_type": "execute_result",
          "data": {
            "text/plain": [
              "['vinco tresorpack 6 ( difficulty 10 of 10 object : disassemble and reassemble the wooden pieces beautiful wo ...',\n",
              " 'glad dot have taks tomorrow ! ! #thankful #startho',\n",
              " '1-3 vs celtics in the regular season = were fucked if play in the playoffs',\n",
              " \"could actually kill girl i'm so sorry ! ! !\",\n",
              " 'find very hard to believe im afraid']"
            ]
          },
          "metadata": {
            "tags": []
          },
          "execution_count": 15
        }
      ]
    },
    {
      "metadata": {
        "id": "h183QKgDCVHh",
        "colab_type": "text"
      },
      "cell_type": "markdown",
      "source": [
        "**Char Level Data Prep-----------------**"
      ]
    },
    {
      "metadata": {
        "id": "yG8WUJCjACM4",
        "colab_type": "code",
        "colab": {
          "autoexec": {
            "startup": false,
            "wait_interval": 0
          }
        }
      },
      "cell_type": "code",
      "source": [
        "filter = '!\"#$%&()*+,-./:;<=>?@[\\]^_`{|}~'\n",
        "char_no_stop = []"
      ],
      "execution_count": 0,
      "outputs": []
    },
    {
      "metadata": {
        "id": "c3FNSg7MA1a3",
        "colab_type": "code",
        "colab": {
          "autoexec": {
            "startup": false,
            "wait_interval": 0
          }
        }
      },
      "cell_type": "code",
      "source": [
        "for line in posneg_no_stop :\n",
        "  temp = []\n",
        "  for i in line :\n",
        "    if i not in filter :\n",
        "      temp.append(i)\n",
        "  char_no_stop.append(temp)"
      ],
      "execution_count": 0,
      "outputs": []
    },
    {
      "metadata": {
        "id": "-j-6HbkuBi67",
        "colab_type": "code",
        "colab": {
          "autoexec": {
            "startup": false,
            "wait_interval": 0
          },
          "base_uri": "https://localhost:8080/",
          "height": 34
        },
        "outputId": "ca495b56-4650-47f7-987d-ccdd56bb9bd6",
        "executionInfo": {
          "status": "ok",
          "timestamp": 1529579442566,
          "user_tz": -330,
          "elapsed": 1385,
          "user": {
            "displayName": "Divyam Srivastava",
            "photoUrl": "//lh3.googleusercontent.com/-WZcfnp5pNtk/AAAAAAAAAAI/AAAAAAAAAXo/yGhBvt-FNho/s50-c-k-no/photo.jpg",
            "userId": "112121959970026521392"
          }
        }
      },
      "cell_type": "code",
      "source": [
        "char_no_stop[0][:10]"
      ],
      "execution_count": 21,
      "outputs": [
        {
          "output_type": "execute_result",
          "data": {
            "text/plain": [
              "['d', 'u', 'n', 'n', 'o', ' ', 'j', 'u', 's', 't']"
            ]
          },
          "metadata": {
            "tags": []
          },
          "execution_count": 21
        }
      ]
    },
    {
      "metadata": {
        "id": "mx2pRy4MZVcc",
        "colab_type": "text"
      },
      "cell_type": "markdown",
      "source": [
        "**Text tokenization & sequence development for feeding to the ConvNets**"
      ]
    },
    {
      "metadata": {
        "id": "6QWcNVRQFYOy",
        "colab_type": "text"
      },
      "cell_type": "markdown",
      "source": [
        "**Word Level-----**"
      ]
    },
    {
      "metadata": {
        "id": "BcRw4E1xwdfa",
        "colab_type": "code",
        "colab": {
          "autoexec": {
            "startup": false,
            "wait_interval": 0
          }
        }
      },
      "cell_type": "code",
      "source": [
        "token = Tokenizer()"
      ],
      "execution_count": 0,
      "outputs": []
    },
    {
      "metadata": {
        "id": "CDBBcCmd7dU6",
        "colab_type": "code",
        "colab": {
          "autoexec": {
            "startup": false,
            "wait_interval": 0
          }
        }
      },
      "cell_type": "code",
      "source": [
        "token.fit_on_texts(posneg_no_stop)"
      ],
      "execution_count": 0,
      "outputs": []
    },
    {
      "metadata": {
        "id": "_NVhYC9AC6Z6",
        "colab_type": "code",
        "colab": {
          "autoexec": {
            "startup": false,
            "wait_interval": 0
          },
          "base_uri": "https://localhost:8080/",
          "height": 34
        },
        "outputId": "b950fc32-3445-413f-df28-23e8d77f41dc",
        "executionInfo": {
          "status": "ok",
          "timestamp": 1529425189648,
          "user_tz": -330,
          "elapsed": 1145,
          "user": {
            "displayName": "Divyam Srivastava",
            "photoUrl": "//lh3.googleusercontent.com/-WZcfnp5pNtk/AAAAAAAAAAI/AAAAAAAAAXo/yGhBvt-FNho/s50-c-k-no/photo.jpg",
            "userId": "112121959970026521392"
          }
        }
      },
      "cell_type": "code",
      "source": [
        "len(token.word_index)"
      ],
      "execution_count": 0,
      "outputs": [
        {
          "output_type": "execute_result",
          "data": {
            "text/plain": [
              "508211"
            ]
          },
          "metadata": {
            "tags": []
          },
          "execution_count": 17
        }
      ]
    },
    {
      "metadata": {
        "id": "TZpQS-hPD7C5",
        "colab_type": "code",
        "colab": {
          "autoexec": {
            "startup": false,
            "wait_interval": 0
          }
        }
      },
      "cell_type": "code",
      "source": [
        "seq = token.texts_to_sequences(posneg_no_stop)"
      ],
      "execution_count": 0,
      "outputs": []
    },
    {
      "metadata": {
        "id": "MUubO3mNQ-n1",
        "colab_type": "code",
        "colab": {
          "autoexec": {
            "startup": false,
            "wait_interval": 0
          },
          "base_uri": "https://localhost:8080/",
          "height": 748
        },
        "outputId": "759509af-b41f-46cf-9be3-a25a8eecdf0f",
        "executionInfo": {
          "status": "ok",
          "timestamp": 1529425243587,
          "user_tz": -330,
          "elapsed": 1167,
          "user": {
            "displayName": "Divyam Srivastava",
            "photoUrl": "//lh3.googleusercontent.com/-WZcfnp5pNtk/AAAAAAAAAAI/AAAAAAAAAXo/yGhBvt-FNho/s50-c-k-no/photo.jpg",
            "userId": "112121959970026521392"
          }
        }
      },
      "cell_type": "code",
      "source": [
        "seq[:10]   #word vectors"
      ],
      "execution_count": 0,
      "outputs": [
        {
          "output_type": "execute_result",
          "data": {
            "text/plain": [
              "[[1821,\n",
              "  493,\n",
              "  391,\n",
              "  1029,\n",
              "  77,\n",
              "  20,\n",
              "  88,\n",
              "  493,\n",
              "  5,\n",
              "  243,\n",
              "  785,\n",
              "  60,\n",
              "  16,\n",
              "  107,\n",
              "  46,\n",
              "  38,\n",
              "  344,\n",
              "  475],\n",
              " [151, 3091, 7, 11, 1705, 268, 133, 10430, 44, 323, 77, 590, 6374, 4],\n",
              " [17, 310, 18592, 9, 3, 660, 93866, 1, 2283, 209588],\n",
              " [56, 1822, 43, 834, 565, 1390, 17, 225, 1795, 275, 3132],\n",
              " [4321, 473, 2399, 7, 1, 4746, 166, 1060, 74253],\n",
              " [551, 209589, 152, 711, 2, 195, 35, 45],\n",
              " [8675,\n",
              "  108,\n",
              "  8,\n",
              "  18231,\n",
              "  6,\n",
              "  121,\n",
              "  280,\n",
              "  93867,\n",
              "  121,\n",
              "  1737,\n",
              "  3078,\n",
              "  1524,\n",
              "  26,\n",
              "  729,\n",
              "  111634,\n",
              "  26,\n",
              "  21464],\n",
              " [4229, 263, 77, 2925, 4229, 18, 25, 55114, 12, 852, 17040],\n",
              " [350, 95, 13, 3900, 9, 3, 424],\n",
              " [7, 167, 5705]]"
            ]
          },
          "metadata": {
            "tags": []
          },
          "execution_count": 19
        }
      ]
    },
    {
      "metadata": {
        "id": "A3gQw90qIZyX",
        "colab_type": "code",
        "colab": {
          "autoexec": {
            "startup": false,
            "wait_interval": 0
          }
        }
      },
      "cell_type": "code",
      "source": [
        "p = 0\n",
        "for i in seq :\n",
        "  if len(i) > p :\n",
        "    p = len(i)"
      ],
      "execution_count": 0,
      "outputs": []
    },
    {
      "metadata": {
        "id": "eomsjut4Igdm",
        "colab_type": "code",
        "colab": {
          "autoexec": {
            "startup": false,
            "wait_interval": 0
          }
        }
      },
      "cell_type": "code",
      "source": [
        "seq = pad_sequences(seq,maxlen = p+1,padding = 'post', value = 0)"
      ],
      "execution_count": 0,
      "outputs": []
    },
    {
      "metadata": {
        "id": "-7boSxv2I38g",
        "colab_type": "code",
        "colab": {
          "autoexec": {
            "startup": false,
            "wait_interval": 0
          },
          "base_uri": "https://localhost:8080/",
          "height": 34
        },
        "outputId": "a4636ef1-f9eb-466d-f842-181961c3a280",
        "executionInfo": {
          "status": "ok",
          "timestamp": 1529425274139,
          "user_tz": -330,
          "elapsed": 1146,
          "user": {
            "displayName": "Divyam Srivastava",
            "photoUrl": "//lh3.googleusercontent.com/-WZcfnp5pNtk/AAAAAAAAAAI/AAAAAAAAAXo/yGhBvt-FNho/s50-c-k-no/photo.jpg",
            "userId": "112121959970026521392"
          }
        }
      },
      "cell_type": "code",
      "source": [
        "seq.shape"
      ],
      "execution_count": 0,
      "outputs": [
        {
          "output_type": "execute_result",
          "data": {
            "text/plain": [
              "(2500000, 67)"
            ]
          },
          "metadata": {
            "tags": []
          },
          "execution_count": 22
        }
      ]
    },
    {
      "metadata": {
        "id": "maPH8i7VJuLh",
        "colab_type": "code",
        "colab": {
          "autoexec": {
            "startup": false,
            "wait_interval": 0
          },
          "base_uri": "https://localhost:8080/",
          "height": 136
        },
        "outputId": "78e839d4-39bd-45a7-e4f2-23819fed7a76",
        "executionInfo": {
          "status": "ok",
          "timestamp": 1529425275321,
          "user_tz": -330,
          "elapsed": 918,
          "user": {
            "displayName": "Divyam Srivastava",
            "photoUrl": "//lh3.googleusercontent.com/-WZcfnp5pNtk/AAAAAAAAAAI/AAAAAAAAAXo/yGhBvt-FNho/s50-c-k-no/photo.jpg",
            "userId": "112121959970026521392"
          }
        }
      },
      "cell_type": "code",
      "source": [
        "seq"
      ],
      "execution_count": 0,
      "outputs": [
        {
          "output_type": "execute_result",
          "data": {
            "text/plain": [
              "array([[ 1821,   493,   391, ...,     0,     0,     0],\n",
              "       [  151,  3091,     7, ...,     0,     0,     0],\n",
              "       [   17,   310, 18592, ...,     0,     0,     0],\n",
              "       ...,\n",
              "       [  201,   105,    16, ...,     0,     0,     0],\n",
              "       [ 8754,  3292,  2083, ...,     0,     0,     0],\n",
              "       [ 7430,  1739,    43, ...,     0,     0,     0]], dtype=int32)"
            ]
          },
          "metadata": {
            "tags": []
          },
          "execution_count": 23
        }
      ]
    },
    {
      "metadata": {
        "id": "e0JZlhFTZs29",
        "colab_type": "text"
      },
      "cell_type": "markdown",
      "source": [
        "**Data Preparation and train test split   (1 : positive tweet  | 0 : Negative Tweet)  **"
      ]
    },
    {
      "metadata": {
        "id": "W930xqMbSQx3",
        "colab_type": "code",
        "colab": {
          "autoexec": {
            "startup": false,
            "wait_interval": 0
          }
        }
      },
      "cell_type": "code",
      "source": [
        "X = np.asmatrix(seq)"
      ],
      "execution_count": 0,
      "outputs": []
    },
    {
      "metadata": {
        "id": "ImkanC9FTXmS",
        "colab_type": "code",
        "colab": {
          "autoexec": {
            "startup": false,
            "wait_interval": 0
          }
        }
      },
      "cell_type": "code",
      "source": [
        "y = np.ones((1250000,1))"
      ],
      "execution_count": 0,
      "outputs": []
    },
    {
      "metadata": {
        "id": "4FGzD3n0TYmd",
        "colab_type": "code",
        "colab": {
          "autoexec": {
            "startup": false,
            "wait_interval": 0
          }
        }
      },
      "cell_type": "code",
      "source": [
        "y = np.append(y,np.zeros((1250000,1)))"
      ],
      "execution_count": 0,
      "outputs": []
    },
    {
      "metadata": {
        "id": "-GNNTkvjTg8F",
        "colab_type": "code",
        "colab": {
          "autoexec": {
            "startup": false,
            "wait_interval": 0
          }
        }
      },
      "cell_type": "code",
      "source": [
        "y = np.asmatrix(np.reshape(y,(2500000,1)))"
      ],
      "execution_count": 0,
      "outputs": []
    },
    {
      "metadata": {
        "id": "4G92IhPbWO-B",
        "colab_type": "code",
        "colab": {
          "autoexec": {
            "startup": false,
            "wait_interval": 0
          }
        }
      },
      "cell_type": "code",
      "source": [
        "X_train, X_test, y_train, y_test = train_test_split(X, y, test_size = 0.2, random_state = 92)"
      ],
      "execution_count": 0,
      "outputs": []
    },
    {
      "metadata": {
        "id": "-GDG3DA-aCDX",
        "colab_type": "code",
        "colab": {
          "autoexec": {
            "startup": false,
            "wait_interval": 0
          }
        }
      },
      "cell_type": "code",
      "source": [
        "X_train = np.array(X_train).reshape((2000000,67,1))\n",
        "X_test = np.array(X_test).reshape((500000,67,1))\n"
      ],
      "execution_count": 0,
      "outputs": []
    },
    {
      "metadata": {
        "id": "VoPv4-YFy-Fg",
        "colab_type": "code",
        "colab": {
          "autoexec": {
            "startup": false,
            "wait_interval": 0
          }
        }
      },
      "cell_type": "code",
      "source": [
        "X_train_E = np.array(X_train).reshape((2000000,67))\n",
        "X_test_E = np.array(X_test).reshape((500000,67))"
      ],
      "execution_count": 0,
      "outputs": []
    },
    {
      "metadata": {
        "id": "Mw5VQRNmh4y4",
        "colab_type": "code",
        "colab": {
          "autoexec": {
            "startup": false,
            "wait_interval": 0
          },
          "base_uri": "https://localhost:8080/",
          "height": 34
        },
        "outputId": "72568bd7-6d37-43c9-fa11-21c7269a683c",
        "executionInfo": {
          "status": "ok",
          "timestamp": 1529425290644,
          "user_tz": -330,
          "elapsed": 946,
          "user": {
            "displayName": "Divyam Srivastava",
            "photoUrl": "//lh3.googleusercontent.com/-WZcfnp5pNtk/AAAAAAAAAAI/AAAAAAAAAXo/yGhBvt-FNho/s50-c-k-no/photo.jpg",
            "userId": "112121959970026521392"
          }
        }
      },
      "cell_type": "code",
      "source": [
        "X_train_E.shape"
      ],
      "execution_count": 0,
      "outputs": [
        {
          "output_type": "execute_result",
          "data": {
            "text/plain": [
              "(2000000, 67)"
            ]
          },
          "metadata": {
            "tags": []
          },
          "execution_count": 31
        }
      ]
    },
    {
      "metadata": {
        "id": "vLPevH_uFgfz",
        "colab_type": "text"
      },
      "cell_type": "markdown",
      "source": [
        "**Char-Level ------------**"
      ]
    },
    {
      "metadata": {
        "id": "AnsFvfMCF5K-",
        "colab_type": "code",
        "colab": {
          "autoexec": {
            "startup": false,
            "wait_interval": 0
          }
        }
      },
      "cell_type": "code",
      "source": [
        "token1 = Tokenizer()"
      ],
      "execution_count": 0,
      "outputs": []
    },
    {
      "metadata": {
        "id": "IJttrizNGDID",
        "colab_type": "code",
        "colab": {
          "autoexec": {
            "startup": false,
            "wait_interval": 0
          }
        }
      },
      "cell_type": "code",
      "source": [
        "token1.fit_on_texts(char_no_stop)"
      ],
      "execution_count": 0,
      "outputs": []
    },
    {
      "metadata": {
        "id": "rjgawBinGgqt",
        "colab_type": "code",
        "colab": {
          "autoexec": {
            "startup": false,
            "wait_interval": 0
          },
          "base_uri": "https://localhost:8080/",
          "height": 34
        },
        "outputId": "9f890463-18db-4cb4-9ac3-49c55619238f",
        "executionInfo": {
          "status": "ok",
          "timestamp": 1529579720491,
          "user_tz": -330,
          "elapsed": 1211,
          "user": {
            "displayName": "Divyam Srivastava",
            "photoUrl": "//lh3.googleusercontent.com/-WZcfnp5pNtk/AAAAAAAAAAI/AAAAAAAAAXo/yGhBvt-FNho/s50-c-k-no/photo.jpg",
            "userId": "112121959970026521392"
          }
        }
      },
      "cell_type": "code",
      "source": [
        "len(token1.word_index)"
      ],
      "execution_count": 29,
      "outputs": [
        {
          "output_type": "execute_result",
          "data": {
            "text/plain": [
              "61"
            ]
          },
          "metadata": {
            "tags": []
          },
          "execution_count": 29
        }
      ]
    },
    {
      "metadata": {
        "id": "7x2RPCi7Gu5j",
        "colab_type": "code",
        "colab": {
          "autoexec": {
            "startup": false,
            "wait_interval": 0
          }
        }
      },
      "cell_type": "code",
      "source": [
        "seq1 = token1.texts_to_sequences(char_no_stop)"
      ],
      "execution_count": 0,
      "outputs": []
    },
    {
      "metadata": {
        "id": "z_sBxs-yG-br",
        "colab_type": "code",
        "colab": {
          "autoexec": {
            "startup": false,
            "wait_interval": 0
          }
        }
      },
      "cell_type": "code",
      "source": [
        "q = []\n",
        "for i in seq1 :\n",
        "  q.append(len(i))"
      ],
      "execution_count": 0,
      "outputs": []
    },
    {
      "metadata": {
        "id": "hTRxgjUwIM_f",
        "colab_type": "code",
        "colab": {
          "autoexec": {
            "startup": false,
            "wait_interval": 0
          }
        }
      },
      "cell_type": "code",
      "source": [
        "q = np.array(q)"
      ],
      "execution_count": 0,
      "outputs": []
    },
    {
      "metadata": {
        "id": "4N4ru30pJJFQ",
        "colab_type": "code",
        "colab": {
          "autoexec": {
            "startup": false,
            "wait_interval": 0
          },
          "base_uri": "https://localhost:8080/",
          "height": 34
        },
        "outputId": "3d6e1aca-cd79-4fd9-e5bd-17de4d1abf1b",
        "executionInfo": {
          "status": "ok",
          "timestamp": 1529583276203,
          "user_tz": -330,
          "elapsed": 1347,
          "user": {
            "displayName": "Divyam Srivastava",
            "photoUrl": "//lh3.googleusercontent.com/-WZcfnp5pNtk/AAAAAAAAAAI/AAAAAAAAAXo/yGhBvt-FNho/s50-c-k-no/photo.jpg",
            "userId": "112121959970026521392"
          }
        }
      },
      "cell_type": "code",
      "source": [
        "st.t.interval(0.95, len(q)-1, loc=np.mean(q), scale=st.sem(q)) #Confidence Interval"
      ],
      "execution_count": 61,
      "outputs": [
        {
          "output_type": "execute_result",
          "data": {
            "text/plain": [
              "(61.54907551355933, 61.628513286440665)"
            ]
          },
          "metadata": {
            "tags": []
          },
          "execution_count": 61
        }
      ]
    },
    {
      "metadata": {
        "id": "JjucHwfdHS57",
        "colab_type": "code",
        "colab": {
          "autoexec": {
            "startup": false,
            "wait_interval": 0
          }
        }
      },
      "cell_type": "code",
      "source": [
        "seq1 = pad_sequences(seq1,maxlen = 62,padding = 'post', truncating = 'post',value = 0)"
      ],
      "execution_count": 0,
      "outputs": []
    },
    {
      "metadata": {
        "id": "phIWFETARxXD",
        "colab_type": "code",
        "colab": {
          "autoexec": {
            "startup": false,
            "wait_interval": 0
          },
          "base_uri": "https://localhost:8080/",
          "height": 34
        },
        "outputId": "e2a21f56-1d77-4bb4-ae7f-807378dbb0f1",
        "executionInfo": {
          "status": "ok",
          "timestamp": 1529583462160,
          "user_tz": -330,
          "elapsed": 1205,
          "user": {
            "displayName": "Divyam Srivastava",
            "photoUrl": "//lh3.googleusercontent.com/-WZcfnp5pNtk/AAAAAAAAAAI/AAAAAAAAAXo/yGhBvt-FNho/s50-c-k-no/photo.jpg",
            "userId": "112121959970026521392"
          }
        }
      },
      "cell_type": "code",
      "source": [
        "seq1.shape"
      ],
      "execution_count": 64,
      "outputs": [
        {
          "output_type": "execute_result",
          "data": {
            "text/plain": [
              "(2500000, 62)"
            ]
          },
          "metadata": {
            "tags": []
          },
          "execution_count": 64
        }
      ]
    },
    {
      "metadata": {
        "id": "v4_yBChASaux",
        "colab_type": "code",
        "colab": {
          "autoexec": {
            "startup": false,
            "wait_interval": 0
          }
        }
      },
      "cell_type": "code",
      "source": [
        "X1 = np.asmatrix(seq1)"
      ],
      "execution_count": 0,
      "outputs": []
    },
    {
      "metadata": {
        "id": "uSEu3dpaSau5",
        "colab_type": "code",
        "colab": {
          "autoexec": {
            "startup": false,
            "wait_interval": 0
          }
        }
      },
      "cell_type": "code",
      "source": [
        "y1 = np.ones((1250000,1))"
      ],
      "execution_count": 0,
      "outputs": []
    },
    {
      "metadata": {
        "id": "VNF9XDS9Sau_",
        "colab_type": "code",
        "colab": {
          "autoexec": {
            "startup": false,
            "wait_interval": 0
          }
        }
      },
      "cell_type": "code",
      "source": [
        "y1 = np.append(y1,np.zeros((1250000,1)))"
      ],
      "execution_count": 0,
      "outputs": []
    },
    {
      "metadata": {
        "id": "rHzSM33rSavH",
        "colab_type": "code",
        "colab": {
          "autoexec": {
            "startup": false,
            "wait_interval": 0
          }
        }
      },
      "cell_type": "code",
      "source": [
        "y1 = np.asmatrix(np.reshape(y1,(2500000,1)))"
      ],
      "execution_count": 0,
      "outputs": []
    },
    {
      "metadata": {
        "id": "5rsATKIkSavR",
        "colab_type": "code",
        "colab": {
          "autoexec": {
            "startup": false,
            "wait_interval": 0
          }
        }
      },
      "cell_type": "code",
      "source": [
        "X1_train, X1_test, y1_train, y1_test = train_test_split(X1, y1, test_size = 0.2, random_state = 92)"
      ],
      "execution_count": 0,
      "outputs": []
    },
    {
      "metadata": {
        "id": "rJI7EE-NS_RS",
        "colab_type": "code",
        "colab": {
          "autoexec": {
            "startup": false,
            "wait_interval": 0
          },
          "base_uri": "https://localhost:8080/",
          "height": 34
        },
        "outputId": "b5491e32-134b-45ee-bca1-a4fbca59b033",
        "executionInfo": {
          "status": "ok",
          "timestamp": 1529583787373,
          "user_tz": -330,
          "elapsed": 1197,
          "user": {
            "displayName": "Divyam Srivastava",
            "photoUrl": "//lh3.googleusercontent.com/-WZcfnp5pNtk/AAAAAAAAAAI/AAAAAAAAAXo/yGhBvt-FNho/s50-c-k-no/photo.jpg",
            "userId": "112121959970026521392"
          }
        }
      },
      "cell_type": "code",
      "source": [
        "X1_test.shape"
      ],
      "execution_count": 73,
      "outputs": [
        {
          "output_type": "execute_result",
          "data": {
            "text/plain": [
              "(500000, 62)"
            ]
          },
          "metadata": {
            "tags": []
          },
          "execution_count": 73
        }
      ]
    },
    {
      "metadata": {
        "id": "aJTwUaAiSavZ",
        "colab_type": "code",
        "colab": {
          "autoexec": {
            "startup": false,
            "wait_interval": 0
          }
        }
      },
      "cell_type": "code",
      "source": [
        "X1_train = np.array(X1_train).reshape((2000000,62,1))\n",
        "X1_test = np.array(X1_test).reshape((500000,62,1))\n"
      ],
      "execution_count": 0,
      "outputs": []
    },
    {
      "metadata": {
        "id": "A2q9yn7gSavd",
        "colab_type": "code",
        "colab": {
          "autoexec": {
            "startup": false,
            "wait_interval": 0
          }
        }
      },
      "cell_type": "code",
      "source": [
        "X1_train_E = np.array(X1_train).reshape((2000000,62))\n",
        "X1_test_E = np.array(X1_test).reshape((500000,62))"
      ],
      "execution_count": 0,
      "outputs": []
    },
    {
      "metadata": {
        "id": "njDxMXnPSavh",
        "colab_type": "code",
        "colab": {
          "autoexec": {
            "startup": false,
            "wait_interval": 0
          },
          "base_uri": "https://localhost:8080/",
          "height": 34
        },
        "outputId": "d93e02af-e4b3-46b0-8a1f-2e3c967ad75b",
        "executionInfo": {
          "status": "ok",
          "timestamp": 1529583821978,
          "user_tz": -330,
          "elapsed": 1079,
          "user": {
            "displayName": "Divyam Srivastava",
            "photoUrl": "//lh3.googleusercontent.com/-WZcfnp5pNtk/AAAAAAAAAAI/AAAAAAAAAXo/yGhBvt-FNho/s50-c-k-no/photo.jpg",
            "userId": "112121959970026521392"
          }
        }
      },
      "cell_type": "code",
      "source": [
        "X1_train.shape"
      ],
      "execution_count": 78,
      "outputs": [
        {
          "output_type": "execute_result",
          "data": {
            "text/plain": [
              "(2000000, 62, 1)"
            ]
          },
          "metadata": {
            "tags": []
          },
          "execution_count": 78
        }
      ]
    },
    {
      "metadata": {
        "id": "qRu3GUXNZ8PB",
        "colab_type": "text"
      },
      "cell_type": "markdown",
      "source": [
        "**ConvNet Architectures (without embedding layer)**"
      ]
    },
    {
      "metadata": {
        "id": "FkKIW6EGaRmt",
        "colab_type": "code",
        "colab": {
          "autoexec": {
            "startup": false,
            "wait_interval": 0
          },
          "base_uri": "https://localhost:8080/",
          "height": 425
        },
        "outputId": "9330c8ef-52c2-415c-9f26-ff62ad0e328b",
        "executionInfo": {
          "status": "ok",
          "timestamp": 1529238023743,
          "user_tz": -330,
          "elapsed": 1687,
          "user": {
            "displayName": "Divyam Srivastava",
            "photoUrl": "//lh3.googleusercontent.com/-WZcfnp5pNtk/AAAAAAAAAAI/AAAAAAAAAXo/yGhBvt-FNho/s50-c-k-no/photo.jpg",
            "userId": "112121959970026521392"
          }
        }
      },
      "cell_type": "code",
      "source": [
        "model = Sequential()\n",
        "model.add(Conv1D(32, 3, input_shape=(65,1), padding='same', activation='relu'))\n",
        "model.add(MaxPooling1D(pool_size=2))\n",
        "\n",
        "model.add(Conv1D(64, 3, padding='same', activation='relu'))\n",
        "model.add(MaxPooling1D(pool_size=2))\n",
        "\n",
        "model.add(Flatten())\n",
        "model.add(Dense(800, activation='relu'))\n",
        "model.add(Dropout(0.5))\n",
        "model.add(Dense(1, activation='sigmoid'))\n",
        "model.compile(loss='binary_crossentropy', optimizer='adam', metrics=['accuracy'])\n",
        "print(model.summary())"
      ],
      "execution_count": 0,
      "outputs": [
        {
          "output_type": "stream",
          "text": [
            "_________________________________________________________________\n",
            "Layer (type)                 Output Shape              Param #   \n",
            "=================================================================\n",
            "conv1d_61 (Conv1D)           (None, 65, 32)            128       \n",
            "_________________________________________________________________\n",
            "max_pooling1d_61 (MaxPooling (None, 32, 32)            0         \n",
            "_________________________________________________________________\n",
            "conv1d_62 (Conv1D)           (None, 32, 64)            6208      \n",
            "_________________________________________________________________\n",
            "max_pooling1d_62 (MaxPooling (None, 16, 64)            0         \n",
            "_________________________________________________________________\n",
            "flatten_10 (Flatten)         (None, 1024)              0         \n",
            "_________________________________________________________________\n",
            "dense_33 (Dense)             (None, 800)               820000    \n",
            "_________________________________________________________________\n",
            "dropout_25 (Dropout)         (None, 800)               0         \n",
            "_________________________________________________________________\n",
            "dense_34 (Dense)             (None, 1)                 801       \n",
            "=================================================================\n",
            "Total params: 827,137\n",
            "Trainable params: 827,137\n",
            "Non-trainable params: 0\n",
            "_________________________________________________________________\n",
            "None\n"
          ],
          "name": "stdout"
        }
      ]
    },
    {
      "metadata": {
        "id": "F4mtS5t9cHRr",
        "colab_type": "code",
        "colab": {
          "autoexec": {
            "startup": false,
            "wait_interval": 0
          },
          "base_uri": "https://localhost:8080/",
          "height": 241
        },
        "outputId": "4eb3afd8-1fad-46e8-8178-09dff8d245a0",
        "executionInfo": {
          "status": "ok",
          "timestamp": 1529238224692,
          "user_tz": -330,
          "elapsed": 183054,
          "user": {
            "displayName": "Divyam Srivastava",
            "photoUrl": "//lh3.googleusercontent.com/-WZcfnp5pNtk/AAAAAAAAAAI/AAAAAAAAAXo/yGhBvt-FNho/s50-c-k-no/photo.jpg",
            "userId": "112121959970026521392"
          }
        }
      },
      "cell_type": "code",
      "source": [
        "model.fit(X_train, y_train, validation_split = 0.2, epochs=5, batch_size=1000)"
      ],
      "execution_count": 0,
      "outputs": [
        {
          "output_type": "stream",
          "text": [
            "Train on 1600000 samples, validate on 400000 samples\n",
            "Epoch 1/5\n",
            "1600000/1600000 [==============================] - 38s 24us/step - loss: 3.8436 - acc: 0.5744 - val_loss: 0.6604 - val_acc: 0.6003\n",
            "Epoch 2/5\n",
            " 163000/1600000 [==>...........................] - ETA: 30s - loss: 0.6641 - acc: 0.5975"
          ],
          "name": "stdout"
        },
        {
          "output_type": "stream",
          "text": [
            "1600000/1600000 [==============================] - 36s 23us/step - loss: 0.6628 - acc: 0.6004 - val_loss: 0.6600 - val_acc: 0.6019\n",
            "Epoch 3/5\n",
            " 720000/1600000 [============>.................] - ETA: 18s - loss: 0.6632 - acc: 0.6007"
          ],
          "name": "stdout"
        },
        {
          "output_type": "stream",
          "text": [
            "1600000/1600000 [==============================] - 36s 22us/step - loss: 0.6624 - acc: 0.6012 - val_loss: 0.6589 - val_acc: 0.6022\n",
            "Epoch 4/5\n",
            " 951000/1600000 [================>.............] - ETA: 13s - loss: 0.6598 - acc: 0.6012"
          ],
          "name": "stdout"
        },
        {
          "output_type": "stream",
          "text": [
            "1600000/1600000 [==============================] - 36s 22us/step - loss: 0.6590 - acc: 0.6014 - val_loss: 0.6520 - val_acc: 0.6027\n",
            "Epoch 5/5\n",
            "1043000/1600000 [==================>...........] - ETA: 11s - loss: 0.6548 - acc: 0.6017"
          ],
          "name": "stdout"
        },
        {
          "output_type": "stream",
          "text": [
            "1600000/1600000 [==============================] - 36s 22us/step - loss: 0.6537 - acc: 0.6015 - val_loss: 0.6451 - val_acc: 0.6024\n"
          ],
          "name": "stdout"
        },
        {
          "output_type": "execute_result",
          "data": {
            "text/plain": [
              "<keras.callbacks.History at 0x7f40cd3acb38>"
            ]
          },
          "metadata": {
            "tags": []
          },
          "execution_count": 117
        }
      ]
    },
    {
      "metadata": {
        "id": "QCDnz_iChmF1",
        "colab_type": "code",
        "colab": {
          "autoexec": {
            "startup": false,
            "wait_interval": 0
          },
          "base_uri": "https://localhost:8080/",
          "height": 34
        },
        "outputId": "8007053d-ca3c-4e29-f024-2f8385a70d5d",
        "executionInfo": {
          "status": "ok",
          "timestamp": 1529238278273,
          "user_tz": -330,
          "elapsed": 49817,
          "user": {
            "displayName": "Divyam Srivastava",
            "photoUrl": "//lh3.googleusercontent.com/-WZcfnp5pNtk/AAAAAAAAAAI/AAAAAAAAAXo/yGhBvt-FNho/s50-c-k-no/photo.jpg",
            "userId": "112121959970026521392"
          }
        }
      },
      "cell_type": "code",
      "source": [
        "scores = model.evaluate(X_test,y_test,verbose = 0)\n",
        "print(\"Accuracy: %.2f%%\" % (scores[1]*100))"
      ],
      "execution_count": 0,
      "outputs": [
        {
          "output_type": "stream",
          "text": [
            "Accuracy: 60.16%\n"
          ],
          "name": "stdout"
        }
      ]
    },
    {
      "metadata": {
        "id": "vVLyxdAFubCk",
        "colab_type": "text"
      },
      "cell_type": "markdown",
      "source": [
        "**ConvNet Architectures (with embedding layer)--Word Level**"
      ]
    },
    {
      "metadata": {
        "id": "XvZ-peXZwXj2",
        "colab_type": "code",
        "colab": {
          "autoexec": {
            "startup": false,
            "wait_interval": 0
          }
        }
      },
      "cell_type": "code",
      "source": [
        "token.word_index"
      ],
      "execution_count": 0,
      "outputs": []
    },
    {
      "metadata": {
        "id": "jnSyJwChulVV",
        "colab_type": "code",
        "colab": {
          "autoexec": {
            "startup": false,
            "wait_interval": 0
          },
          "base_uri": "https://localhost:8080/",
          "height": 493
        },
        "outputId": "d4ce3851-a7bf-4b1d-e220-3e2318200f45",
        "executionInfo": {
          "status": "ok",
          "timestamp": 1529425874691,
          "user_tz": -330,
          "elapsed": 1472,
          "user": {
            "displayName": "Divyam Srivastava",
            "photoUrl": "//lh3.googleusercontent.com/-WZcfnp5pNtk/AAAAAAAAAAI/AAAAAAAAAXo/yGhBvt-FNho/s50-c-k-no/photo.jpg",
            "userId": "112121959970026521392"
          }
        }
      },
      "cell_type": "code",
      "source": [
        "model1 = Sequential()\n",
        "model1.add(Embedding(508211, 25, input_length=67))\n",
        "model1.add(Conv1D(32, 3, input_shape=(67,25), padding='same', activation='relu'))\n",
        "model1.add(Conv1D(32, 3, padding='same', activation='relu'))\n",
        "model1.add(MaxPooling1D(pool_size=2))\n",
        "model1.add(Conv1D(64, 3, padding='same', activation='relu'))\n",
        "model1.add(MaxPooling1D(pool_size=2))\n",
        "model1.add(Flatten())\n",
        "model1.add(Dense(1000, activation='relu'))\n",
        "model1.add(Dropout(0.5))\n",
        "model1.add(Dense(1, activation='sigmoid'))\n",
        "model1.compile(loss='binary_crossentropy', optimizer='adam', metrics=['accuracy'])\n",
        "print(model1.summary())"
      ],
      "execution_count": 0,
      "outputs": [
        {
          "output_type": "stream",
          "text": [
            "_________________________________________________________________\n",
            "Layer (type)                 Output Shape              Param #   \n",
            "=================================================================\n",
            "embedding_3 (Embedding)      (None, 67, 25)            12705275  \n",
            "_________________________________________________________________\n",
            "conv1d_6 (Conv1D)            (None, 67, 32)            2432      \n",
            "_________________________________________________________________\n",
            "conv1d_7 (Conv1D)            (None, 67, 32)            3104      \n",
            "_________________________________________________________________\n",
            "max_pooling1d_5 (MaxPooling1 (None, 33, 32)            0         \n",
            "_________________________________________________________________\n",
            "conv1d_8 (Conv1D)            (None, 33, 64)            6208      \n",
            "_________________________________________________________________\n",
            "max_pooling1d_6 (MaxPooling1 (None, 16, 64)            0         \n",
            "_________________________________________________________________\n",
            "flatten_3 (Flatten)          (None, 1024)              0         \n",
            "_________________________________________________________________\n",
            "dense_5 (Dense)              (None, 1000)              1025000   \n",
            "_________________________________________________________________\n",
            "dropout_3 (Dropout)          (None, 1000)              0         \n",
            "_________________________________________________________________\n",
            "dense_6 (Dense)              (None, 1)                 1001      \n",
            "=================================================================\n",
            "Total params: 13,743,020\n",
            "Trainable params: 13,743,020\n",
            "Non-trainable params: 0\n",
            "_________________________________________________________________\n",
            "None\n"
          ],
          "name": "stdout"
        }
      ]
    },
    {
      "metadata": {
        "id": "xP-YwqPux7uB",
        "colab_type": "code",
        "colab": {
          "autoexec": {
            "startup": false,
            "wait_interval": 0
          },
          "base_uri": "https://localhost:8080/",
          "height": 224
        },
        "outputId": "972fa1fe-7ed7-41a1-fd99-b032f3ac66e8",
        "executionInfo": {
          "status": "ok",
          "timestamp": 1529426218132,
          "user_tz": -330,
          "elapsed": 341697,
          "user": {
            "displayName": "Divyam Srivastava",
            "photoUrl": "//lh3.googleusercontent.com/-WZcfnp5pNtk/AAAAAAAAAAI/AAAAAAAAAXo/yGhBvt-FNho/s50-c-k-no/photo.jpg",
            "userId": "112121959970026521392"
          }
        }
      },
      "cell_type": "code",
      "source": [
        "history = model1.fit(X_train_E, y_train, validation_split = 0.2, epochs=5, batch_size=1000)"
      ],
      "execution_count": 0,
      "outputs": [
        {
          "output_type": "stream",
          "text": [
            "Train on 1600000 samples, validate on 400000 samples\n",
            "Epoch 1/5\n",
            "1314000/1600000 [=======================>......] - ETA: 11s - loss: 0.3855 - acc: 0.8192"
          ],
          "name": "stdout"
        },
        {
          "output_type": "stream",
          "text": [
            "1600000/1600000 [==============================] - 68s 43us/step - loss: 0.3787 - acc: 0.8234 - val_loss: 0.3438 - val_acc: 0.8441\n",
            "Epoch 2/5\n",
            " 759000/1600000 [=============>................] - ETA: 34s - loss: 0.2964 - acc: 0.8698"
          ],
          "name": "stdout"
        },
        {
          "output_type": "stream",
          "text": [
            "1600000/1600000 [==============================] - 68s 42us/step - loss: 0.2982 - acc: 0.8688 - val_loss: 0.3434 - val_acc: 0.8460\n",
            "Epoch 3/5\n",
            " 547000/1600000 [=========>....................] - ETA: 42s - loss: 0.2427 - acc: 0.8964"
          ],
          "name": "stdout"
        },
        {
          "output_type": "stream",
          "text": [
            "1600000/1600000 [==============================] - 68s 42us/step - loss: 0.2493 - acc: 0.8931 - val_loss: 0.3652 - val_acc: 0.8440\n",
            "Epoch 4/5\n",
            " 463000/1600000 [=======>......................] - ETA: 46s - loss: 0.2076 - acc: 0.9128"
          ],
          "name": "stdout"
        },
        {
          "output_type": "stream",
          "text": [
            "1600000/1600000 [==============================] - 68s 42us/step - loss: 0.2163 - acc: 0.9085 - val_loss: 0.3950 - val_acc: 0.8402\n",
            "Epoch 5/5\n",
            " 432000/1600000 [=======>......................] - ETA: 47s - loss: 0.1827 - acc: 0.9237"
          ],
          "name": "stdout"
        },
        {
          "output_type": "stream",
          "text": [
            "1600000/1600000 [==============================] - 68s 42us/step - loss: 0.1938 - acc: 0.9180 - val_loss: 0.4332 - val_acc: 0.8375\n"
          ],
          "name": "stdout"
        }
      ]
    },
    {
      "metadata": {
        "id": "ZdREBEGuyZsh",
        "colab_type": "code",
        "colab": {
          "autoexec": {
            "startup": false,
            "wait_interval": 0
          },
          "base_uri": "https://localhost:8080/",
          "height": 34
        },
        "outputId": "256704a9-16b2-4bc0-9273-9fadb5131695",
        "executionInfo": {
          "status": "ok",
          "timestamp": 1529426267943,
          "user_tz": -330,
          "elapsed": 49768,
          "user": {
            "displayName": "Divyam Srivastava",
            "photoUrl": "//lh3.googleusercontent.com/-WZcfnp5pNtk/AAAAAAAAAAI/AAAAAAAAAXo/yGhBvt-FNho/s50-c-k-no/photo.jpg",
            "userId": "112121959970026521392"
          }
        }
      },
      "cell_type": "code",
      "source": [
        "scores = model1.evaluate(X_test_E,y_test,verbose = 0)\n",
        "print(\"Accuracy: %.2f%%\" % (scores[1]*100))"
      ],
      "execution_count": 0,
      "outputs": [
        {
          "output_type": "stream",
          "text": [
            "Accuracy: 83.74%\n"
          ],
          "name": "stdout"
        }
      ]
    },
    {
      "metadata": {
        "id": "E_u4GuIU0j1h",
        "colab_type": "code",
        "colab": {
          "autoexec": {
            "startup": false,
            "wait_interval": 0
          },
          "base_uri": "https://localhost:8080/",
          "height": 376
        },
        "outputId": "b77dbf23-2e65-4436-decb-250c3ce78dd0",
        "executionInfo": {
          "status": "ok",
          "timestamp": 1529426269526,
          "user_tz": -330,
          "elapsed": 1494,
          "user": {
            "displayName": "Divyam Srivastava",
            "photoUrl": "//lh3.googleusercontent.com/-WZcfnp5pNtk/AAAAAAAAAAI/AAAAAAAAAXo/yGhBvt-FNho/s50-c-k-no/photo.jpg",
            "userId": "112121959970026521392"
          }
        }
      },
      "cell_type": "code",
      "source": [
        "plt.plot(history.history['acc'])\n",
        "plt.plot(history.history['val_acc'])\n",
        "plt.title('model accuracy')\n",
        "plt.ylabel('accuracy')\n",
        "plt.xlabel('epoch')\n",
        "plt.legend(['train', 'validation'], loc='best')\n",
        "plt.show()\n"
      ],
      "execution_count": 0,
      "outputs": [
        {
          "output_type": "display_data",
          "data": {
            "image/png": "[encoded data removed]",
            "text/plain": [
              "<matplotlib.figure.Figure at 0x7f20039f5320>"
            ]
          },
          "metadata": {
            "tags": []
          }
        }
      ]
    },
    {
      "metadata": {
        "id": "_6jIhyoaTUWq",
        "colab_type": "text"
      },
      "cell_type": "markdown",
      "source": [
        ""
      ]
    },
    {
      "metadata": {
        "id": "wOFyRUjezlgh",
        "colab_type": "text"
      },
      "cell_type": "markdown",
      "source": [
        "**Overfitting at its best...  ¯\\_(ツ)_/¯**"
      ]
    },
    {
      "metadata": {
        "id": "qwES_OgBTjOW",
        "colab_type": "text"
      },
      "cell_type": "markdown",
      "source": [
        "**ConvNet Architectures (with embedding layer)--Char Level**"
      ]
    },
    {
      "metadata": {
        "id": "-Ot_HPaETv4M",
        "colab_type": "code",
        "colab": {
          "autoexec": {
            "startup": false,
            "wait_interval": 0
          },
          "base_uri": "https://localhost:8080/",
          "height": 34
        },
        "outputId": "c2104cbf-e2ab-46f5-99eb-03efe0be38cc",
        "executionInfo": {
          "status": "ok",
          "timestamp": 1529584027811,
          "user_tz": -330,
          "elapsed": 1096,
          "user": {
            "displayName": "Divyam Srivastava",
            "photoUrl": "//lh3.googleusercontent.com/-WZcfnp5pNtk/AAAAAAAAAAI/AAAAAAAAAXo/yGhBvt-FNho/s50-c-k-no/photo.jpg",
            "userId": "112121959970026521392"
          }
        }
      },
      "cell_type": "code",
      "source": [
        "len(token1.word_index)"
      ],
      "execution_count": 80,
      "outputs": [
        {
          "output_type": "execute_result",
          "data": {
            "text/plain": [
              "61"
            ]
          },
          "metadata": {
            "tags": []
          },
          "execution_count": 80
        }
      ]
    },
    {
      "metadata": {
        "id": "oXFIIg50Tv4V",
        "colab_type": "code",
        "colab": {
          "autoexec": {
            "startup": false,
            "wait_interval": 0
          },
          "base_uri": "https://localhost:8080/",
          "height": 493
        },
        "outputId": "fb826fa3-06c8-422c-b096-96f85d8993e2",
        "executionInfo": {
          "status": "ok",
          "timestamp": 1529584135568,
          "user_tz": -330,
          "elapsed": 1262,
          "user": {
            "displayName": "Divyam Srivastava",
            "photoUrl": "//lh3.googleusercontent.com/-WZcfnp5pNtk/AAAAAAAAAAI/AAAAAAAAAXo/yGhBvt-FNho/s50-c-k-no/photo.jpg",
            "userId": "112121959970026521392"
          }
        }
      },
      "cell_type": "code",
      "source": [
        "model2 = Sequential()\n",
        "model2.add(Embedding(61, 30, input_length=62))\n",
        "model2.add(Conv1D(32, 3, input_shape=(62,30), padding='same', activation='relu'))\n",
        "model2.add(Conv1D(32, 3, padding='same', activation='relu'))\n",
        "model2.add(MaxPooling1D(pool_size=2))\n",
        "model2.add(Conv1D(64, 3, padding='same', activation='relu'))\n",
        "model2.add(MaxPooling1D(pool_size=2))\n",
        "model2.add(Flatten())\n",
        "model2.add(Dense(800, activation='relu'))\n",
        "model2.add(Dropout(0.5))\n",
        "model2.add(Dense(1, activation='sigmoid'))\n",
        "model2.compile(loss='binary_crossentropy', optimizer='adam', metrics=['accuracy'])\n",
        "print(model2.summary())"
      ],
      "execution_count": 82,
      "outputs": [
        {
          "output_type": "stream",
          "text": [
            "_________________________________________________________________\n",
            "Layer (type)                 Output Shape              Param #   \n",
            "=================================================================\n",
            "embedding_2 (Embedding)      (None, 62, 30)            1830      \n",
            "_________________________________________________________________\n",
            "conv1d_4 (Conv1D)            (None, 62, 32)            2912      \n",
            "_________________________________________________________________\n",
            "conv1d_5 (Conv1D)            (None, 62, 32)            3104      \n",
            "_________________________________________________________________\n",
            "max_pooling1d_3 (MaxPooling1 (None, 31, 32)            0         \n",
            "_________________________________________________________________\n",
            "conv1d_6 (Conv1D)            (None, 31, 64)            6208      \n",
            "_________________________________________________________________\n",
            "max_pooling1d_4 (MaxPooling1 (None, 15, 64)            0         \n",
            "_________________________________________________________________\n",
            "flatten_2 (Flatten)          (None, 960)               0         \n",
            "_________________________________________________________________\n",
            "dense_3 (Dense)              (None, 800)               768800    \n",
            "_________________________________________________________________\n",
            "dropout_2 (Dropout)          (None, 800)               0         \n",
            "_________________________________________________________________\n",
            "dense_4 (Dense)              (None, 1)                 801       \n",
            "=================================================================\n",
            "Total params: 783,655\n",
            "Trainable params: 783,655\n",
            "Non-trainable params: 0\n",
            "_________________________________________________________________\n",
            "None\n"
          ],
          "name": "stdout"
        }
      ]
    },
    {
      "metadata": {
        "id": "ejfyMYctTv4f",
        "colab_type": "code",
        "colab": {
          "autoexec": {
            "startup": false,
            "wait_interval": 0
          },
          "base_uri": "https://localhost:8080/",
          "height": 224
        },
        "outputId": "95dbf45d-232f-4bd1-c26a-e9172ffdef3d",
        "executionInfo": {
          "status": "ok",
          "timestamp": 1529584374924,
          "user_tz": -330,
          "elapsed": 218044,
          "user": {
            "displayName": "Divyam Srivastava",
            "photoUrl": "//lh3.googleusercontent.com/-WZcfnp5pNtk/AAAAAAAAAAI/AAAAAAAAAXo/yGhBvt-FNho/s50-c-k-no/photo.jpg",
            "userId": "112121959970026521392"
          }
        }
      },
      "cell_type": "code",
      "source": [
        "history = model2.fit(X1_train_E, y1_train, validation_split = 0.2, epochs=5, batch_size=1000)"
      ],
      "execution_count": 83,
      "outputs": [
        {
          "output_type": "stream",
          "text": [
            "Train on 1600000 samples, validate on 400000 samples\n",
            "Epoch 1/5\n",
            "1600000/1600000 [==============================] - 45s 28us/step - loss: 0.5150 - acc: 0.7329 - val_loss: 0.4767 - val_acc: 0.7619\n",
            "Epoch 2/5\n",
            "  14000/1600000 [..............................] - ETA: 44s - loss: 0.4817 - acc: 0.7594"
          ],
          "name": "stdout"
        },
        {
          "output_type": "stream",
          "text": [
            "1600000/1600000 [==============================] - 42s 26us/step - loss: 0.4631 - acc: 0.7717 - val_loss: 0.4569 - val_acc: 0.7746\n",
            "Epoch 3/5\n",
            " 441000/1600000 [=======>......................] - ETA: 29s - loss: 0.4474 - acc: 0.7822"
          ],
          "name": "stdout"
        },
        {
          "output_type": "stream",
          "text": [
            "1600000/1600000 [==============================] - 43s 27us/step - loss: 0.4426 - acc: 0.7850 - val_loss: 0.4429 - val_acc: 0.7845\n",
            "Epoch 4/5\n",
            " 558000/1600000 [=========>....................] - ETA: 26s - loss: 0.4321 - acc: 0.7915"
          ],
          "name": "stdout"
        },
        {
          "output_type": "stream",
          "text": [
            "1600000/1600000 [==============================] - 43s 27us/step - loss: 0.4305 - acc: 0.7926 - val_loss: 0.4257 - val_acc: 0.7958\n",
            "Epoch 5/5\n",
            " 658000/1600000 [===========>..................] - ETA: 23s - loss: 0.4231 - acc: 0.7971"
          ],
          "name": "stdout"
        },
        {
          "output_type": "stream",
          "text": [
            "1600000/1600000 [==============================] - 43s 27us/step - loss: 0.4213 - acc: 0.7982 - val_loss: 0.4205 - val_acc: 0.7983\n"
          ],
          "name": "stdout"
        }
      ]
    },
    {
      "metadata": {
        "id": "yBKIhJSAViBl",
        "colab_type": "code",
        "colab": {
          "autoexec": {
            "startup": false,
            "wait_interval": 0
          },
          "base_uri": "https://localhost:8080/",
          "height": 34
        },
        "outputId": "17445a7a-922d-4264-c85e-484df0900760",
        "executionInfo": {
          "status": "ok",
          "timestamp": 1529584494563,
          "user_tz": -330,
          "elapsed": 49111,
          "user": {
            "displayName": "Divyam Srivastava",
            "photoUrl": "//lh3.googleusercontent.com/-WZcfnp5pNtk/AAAAAAAAAAI/AAAAAAAAAXo/yGhBvt-FNho/s50-c-k-no/photo.jpg",
            "userId": "112121959970026521392"
          }
        }
      },
      "cell_type": "code",
      "source": [
        "scores = model2.evaluate(X1_test_E,y1_test,verbose = 0)\n",
        "print(\"Accuracy: %.2f%%\" % (scores[1]*100))"
      ],
      "execution_count": 84,
      "outputs": [
        {
          "output_type": "stream",
          "text": [
            "Accuracy: 79.78%\n"
          ],
          "name": "stdout"
        }
      ]
    },
    {
      "metadata": {
        "id": "2ZzNbDZHViBy",
        "colab_type": "code",
        "colab": {
          "autoexec": {
            "startup": false,
            "wait_interval": 0
          },
          "base_uri": "https://localhost:8080/",
          "height": 376
        },
        "outputId": "6e61408e-626c-43e0-b527-238d4231fa96",
        "executionInfo": {
          "status": "ok",
          "timestamp": 1529584506623,
          "user_tz": -330,
          "elapsed": 1452,
          "user": {
            "displayName": "Divyam Srivastava",
            "photoUrl": "//lh3.googleusercontent.com/-WZcfnp5pNtk/AAAAAAAAAAI/AAAAAAAAAXo/yGhBvt-FNho/s50-c-k-no/photo.jpg",
            "userId": "112121959970026521392"
          }
        }
      },
      "cell_type": "code",
      "source": [
        "plt.plot(history.history['acc'])\n",
        "plt.plot(history.history['val_acc'])\n",
        "plt.title('model accuracy')\n",
        "plt.ylabel('accuracy')\n",
        "plt.xlabel('epoch')\n",
        "plt.legend(['train', 'validation'], loc='best')\n",
        "plt.show()\n"
      ],
      "execution_count": 85,
      "outputs": [
        {
          "output_type": "display_data",
          "data": {
            "image/png": "[encoded data removed]",
            "text/plain": [
              "<matplotlib.figure.Figure at 0x7f3411ceda58>"
            ]
          },
          "metadata": {
            "tags": []
          }
        }
      ]
    },
    {
      "metadata": {
        "id": "YFZ_mSXzV7ME",
        "colab_type": "text"
      },
      "cell_type": "markdown",
      "source": [
        "**No overfittings! way to go...**"
      ]
    }
  ]
}