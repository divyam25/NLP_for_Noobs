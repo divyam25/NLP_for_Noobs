{
  "nbformat": 4,
  "nbformat_minor": 0,
  "metadata": {
    "colab": {
      "name": "Tweet-Sent-DeepLearn.ipynb",
      "version": "0.3.2",
      "views": {},
      "default_view": {},
      "provenance": [],
      "collapsed_sections": []
    },
    "kernelspec": {
      "name": "python3",
      "display_name": "Python 3"
    },
    "accelerator": "GPU"
  },
  "cells": [
    {
      "metadata": {
        "id": "6V_bgAR5P_1z",
        "colab_type": "code",
        "colab": {
          "autoexec": {
            "startup": false,
            "wait_interval": 0
          }
        }
      },
      "cell_type": "code",
      "source": [
        "from keras.preprocessing.text import Tokenizer\n",
        "import pandas as pd\n",
        "import numpy as np\n",
        "import nltk\n",
        "from nltk.corpus import stopwords \n",
        "from nltk.tokenize import word_tokenize"
      ],
      "execution_count": 0,
      "outputs": []
    },
    {
      "metadata": {
        "id": "Y3xdppU_N6fi",
        "colab_type": "code",
        "colab": {
          "autoexec": {
            "startup": false,
            "wait_interval": 0
          }
        }
      },
      "cell_type": "code",
      "source": [
        "!pip install -U -q PyDrive\n",
        "from pydrive.auth import GoogleAuth\n",
        "from pydrive.drive import GoogleDrive\n",
        "from google.colab import auth\n",
        "from oauth2client.client import GoogleCredentials"
      ],
      "execution_count": 0,
      "outputs": []
    },
    {
      "metadata": {
        "id": "ax8HHEgfOLSX",
        "colab_type": "code",
        "colab": {
          "autoexec": {
            "startup": false,
            "wait_interval": 0
          }
        }
      },
      "cell_type": "code",
      "source": [
        "auth.authenticate_user()\n",
        "gauth = GoogleAuth()\n",
        "gauth.credentials = GoogleCredentials.get_application_default()\n",
        "drive = GoogleDrive(gauth)"
      ],
      "execution_count": 0,
      "outputs": []
    },
    {
      "metadata": {
        "id": "XdauYsxaOe02",
        "colab_type": "code",
        "colab": {
          "autoexec": {
            "startup": false,
            "wait_interval": 0
          }
        }
      },
      "cell_type": "code",
      "source": [
        "train_image = drive.CreateFile({'id' : '18keD3rntMU1ErXYXYR6jKTe2VXZPa0VU'})\n",
        "train_image.GetContentFile('train_pos_full.txt')"
      ],
      "execution_count": 0,
      "outputs": []
    },
    {
      "metadata": {
        "id": "oZ6_GsxjPnTP",
        "colab_type": "code",
        "colab": {
          "autoexec": {
            "startup": false,
            "wait_interval": 0
          }
        }
      },
      "cell_type": "code",
      "source": [
        "lines = [line.rstrip('\\n') for line in open('train_pos_full.txt')]  #Eureka"
      ],
      "execution_count": 0,
      "outputs": []
    },
    {
      "metadata": {
        "id": "GaSPN4Hf2HP5",
        "colab_type": "code",
        "colab": {
          "autoexec": {
            "startup": false,
            "wait_interval": 0
          }
        }
      },
      "cell_type": "code",
      "source": [
        "stopwords.words('english')"
      ],
      "execution_count": 0,
      "outputs": []
    },
    {
      "metadata": {
        "id": "RvtmXMhsBrUK",
        "colab_type": "code",
        "colab": {
          "autoexec": {
            "startup": false,
            "wait_interval": 0
          },
          "base_uri": "https://localhost:8080/",
          "height": 102
        },
        "outputId": "7ee44994-38f4-40c2-faaf-b3b1f893702f",
        "executionInfo": {
          "status": "ok",
          "timestamp": 1529075914040,
          "user_tz": -330,
          "elapsed": 1171,
          "user": {
            "displayName": "Divyam Srivastava",
            "photoUrl": "//lh3.googleusercontent.com/-WZcfnp5pNtk/AAAAAAAAAAI/AAAAAAAAAXo/yGhBvt-FNho/s50-c-k-no/photo.jpg",
            "userId": "112121959970026521392"
          }
        }
      },
      "cell_type": "code",
      "source": [
        "lines[:5]"
      ],
      "execution_count": 76,
      "outputs": [
        {
          "output_type": "execute_result",
          "data": {
            "text/plain": [
              "['<user> i dunno justin read my mention or not . only justin and god knows about that , but i hope you will follow me #believe 15',\n",
              " \"because your logic is so dumb , i won't even crop out your name or your photo . tsk . <url>\",\n",
              " '\" <user> just put casper in a box ! \" looved the battle ! #crakkbitch',\n",
              " \"<user> <user> thanks sir > > don't trip lil mama ... just keep doin ya thang !\",\n",
              " 'visiting my brother tmr is the bestest birthday gift eveerrr ! ! !']"
            ]
          },
          "metadata": {
            "tags": []
          },
          "execution_count": 76
        }
      ]
    },
    {
      "metadata": {
        "id": "RLpfj4Ch927D",
        "colab_type": "code",
        "colab": {
          "autoexec": {
            "startup": false,
            "wait_interval": 0
          }
        }
      },
      "cell_type": "code",
      "source": [
        "lines1 = []"
      ],
      "execution_count": 0,
      "outputs": []
    },
    {
      "metadata": {
        "id": "rG8yDOnS5RHw",
        "colab_type": "code",
        "colab": {
          "autoexec": {
            "startup": false,
            "wait_interval": 0
          }
        }
      },
      "cell_type": "code",
      "source": [
        "for line in lines :\n",
        "  sum = ''\n",
        "  for w in line.split() :\n",
        "    sum = sum + w + ' '\n",
        "  lines1.append(sum)"
      ],
      "execution_count": 0,
      "outputs": []
    },
    {
      "metadata": {
        "id": "FpXTsFWk8FnM",
        "colab_type": "code",
        "colab": {
          "autoexec": {
            "startup": false,
            "wait_interval": 0
          },
          "base_uri": "https://localhost:8080/",
          "height": 102
        },
        "outputId": "a2565ec0-a5b7-476d-b565-833588a13b3f",
        "executionInfo": {
          "status": "ok",
          "timestamp": 1529075932052,
          "user_tz": -330,
          "elapsed": 1516,
          "user": {
            "displayName": "Divyam Srivastava",
            "photoUrl": "//lh3.googleusercontent.com/-WZcfnp5pNtk/AAAAAAAAAAI/AAAAAAAAAXo/yGhBvt-FNho/s50-c-k-no/photo.jpg",
            "userId": "112121959970026521392"
          }
        }
      },
      "cell_type": "code",
      "source": [
        "lines1[:5]"
      ],
      "execution_count": 77,
      "outputs": [
        {
          "output_type": "execute_result",
          "data": {
            "text/plain": [
              "['<user> i dunno justin read my mention or not . only justin and god knows about that , but i hope you will follow me #believe 15 ',\n",
              " \"because your logic is so dumb , i won't even crop out your name or your photo . tsk . <url> \",\n",
              " '\" <user> just put casper in a box ! \" looved the battle ! #crakkbitch ',\n",
              " \"<user> <user> thanks sir > > don't trip lil mama ... just keep doin ya thang ! \",\n",
              " 'visiting my brother tmr is the bestest birthday gift eveerrr ! ! ! ']"
            ]
          },
          "metadata": {
            "tags": []
          },
          "execution_count": 77
        }
      ]
    },
    {
      "metadata": {
        "id": "rx67zftO9vnQ",
        "colab_type": "code",
        "colab": {
          "autoexec": {
            "startup": false,
            "wait_interval": 0
          }
        }
      },
      "cell_type": "code",
      "source": [
        ""
      ],
      "execution_count": 0,
      "outputs": []
    }
  ]
}