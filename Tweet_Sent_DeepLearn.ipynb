{
  "nbformat": 4,
  "nbformat_minor": 0,
  "metadata": {
    "colab": {
      "name": "Tweet-Sent-DeepLearn.ipynb",
      "version": "0.3.2",
      "views": {},
      "default_view": {},
      "provenance": [],
      "collapsed_sections": []
    },
    "kernelspec": {
      "name": "python3",
      "display_name": "Python 3"
    },
    "accelerator": "GPU"
  },
  "cells": [
    {
      "metadata": {
        "id": "B_JJF3RzZB1F",
        "colab_type": "code",
        "colab": {
          "autoexec": {
            "startup": false,
            "wait_interval": 0
          }
        }
      },
      "cell_type": "code",
      "source": [
        "from keras.models import Sequential   #DeepLearning Libraries\n",
        "from keras.layers import Dense\n",
        "from keras.layers import Dropout\n",
        "from keras.layers import Flatten\n",
        "from keras.layers import Embedding\n",
        "from keras.optimizers import Adam\n",
        "from keras.layers.convolutional import Conv1D\n",
        "from keras.layers.convolutional import MaxPooling1D\n",
        "from keras.utils import np_utils"
      ],
      "execution_count": 0,
      "outputs": []
    },
    {
      "metadata": {
        "id": "6V_bgAR5P_1z",
        "colab_type": "code",
        "colab": {
          "autoexec": {
            "startup": false,
            "wait_interval": 0
          }
        }
      },
      "cell_type": "code",
      "source": [
        "from keras.preprocessing.text import Tokenizer   #preprocessing\n",
        "from keras.preprocessing.sequence import pad_sequences\n",
        "import pandas as pd\n",
        "import numpy as np\n",
        "import nltk\n",
        "from nltk.corpus import stopwords \n",
        "from nltk.tokenize import word_tokenize\n",
        "from sklearn.model_selection import train_test_split"
      ],
      "execution_count": 0,
      "outputs": []
    },
    {
      "metadata": {
        "id": "Y3xdppU_N6fi",
        "colab_type": "code",
        "colab": {
          "autoexec": {
            "startup": false,
            "wait_interval": 0
          }
        }
      },
      "cell_type": "code",
      "source": [
        "!pip install -U -q PyDrive\n",
        "from pydrive.auth import GoogleAuth\n",
        "from pydrive.drive import GoogleDrive\n",
        "from google.colab import auth\n",
        "from oauth2client.client import GoogleCredentials"
      ],
      "execution_count": 0,
      "outputs": []
    },
    {
      "metadata": {
        "id": "ax8HHEgfOLSX",
        "colab_type": "code",
        "colab": {
          "autoexec": {
            "startup": false,
            "wait_interval": 0
          }
        }
      },
      "cell_type": "code",
      "source": [
        "auth.authenticate_user()\n",
        "gauth = GoogleAuth()\n",
        "gauth.credentials = GoogleCredentials.get_application_default()\n",
        "drive = GoogleDrive(gauth)"
      ],
      "execution_count": 0,
      "outputs": []
    },
    {
      "metadata": {
        "id": "XdauYsxaOe02",
        "colab_type": "code",
        "colab": {
          "autoexec": {
            "startup": false,
            "wait_interval": 0
          }
        }
      },
      "cell_type": "code",
      "source": [
        "train_image = drive.CreateFile({'id' : '18keD3rntMU1ErXYXYR6jKTe2VXZPa0VU'})\n",
        "train_image.GetContentFile('train_pos_full.txt')\n",
        "train_image = drive.CreateFile({'id' : '1_E6c3Qe05hwSZzy0goTYrmB2wb-5Y2tb'})\n",
        "train_image.GetContentFile('train_neg_full.txt')"
      ],
      "execution_count": 0,
      "outputs": []
    },
    {
      "metadata": {
        "id": "oZ6_GsxjPnTP",
        "colab_type": "code",
        "colab": {
          "autoexec": {
            "startup": false,
            "wait_interval": 0
          }
        }
      },
      "cell_type": "code",
      "source": [
        "pos_tweet = [line.rstrip('\\n') for line in open('train_pos_full.txt')] #Eureka\n",
        "neg_tweet = [line.rstrip('\\n') for line in open('train_neg_full.txt')]"
      ],
      "execution_count": 0,
      "outputs": []
    },
    {
      "metadata": {
        "id": "7iIaBf8mXYBi",
        "colab_type": "code",
        "colab": {
          "autoexec": {
            "startup": false,
            "wait_interval": 0
          },
          "base_uri": "https://localhost:8080/",
          "height": 102
        },
        "outputId": "49c2c9b3-ea0e-474d-fc05-2ea3ea4b0b08",
        "executionInfo": {
          "status": "ok",
          "timestamp": 1529229922371,
          "user_tz": -330,
          "elapsed": 1193,
          "user": {
            "displayName": "Divyam Srivastava",
            "photoUrl": "//lh3.googleusercontent.com/-WZcfnp5pNtk/AAAAAAAAAAI/AAAAAAAAAXo/yGhBvt-FNho/s50-c-k-no/photo.jpg",
            "userId": "112121959970026521392"
          }
        }
      },
      "cell_type": "code",
      "source": [
        "neg_tweet[:5]"
      ],
      "execution_count": 6,
      "outputs": [
        {
          "output_type": "execute_result",
          "data": {
            "text/plain": [
              "['vinco tresorpack 6 ( difficulty 10 of 10 object : disassemble and reassemble the wooden pieces this beautiful wo ... <url>',\n",
              " 'glad i dot have taks tomorrow ! ! #thankful #startho',\n",
              " '1-3 vs celtics in the regular season = were fucked if we play them in the playoffs',\n",
              " \"<user> i could actually kill that girl i'm so sorry ! ! !\",\n",
              " '<user> <user> <user> i find that very hard to believe im afraid']"
            ]
          },
          "metadata": {
            "tags": []
          },
          "execution_count": 6
        }
      ]
    },
    {
      "metadata": {
        "id": "eZUWEoNqXltM",
        "colab_type": "code",
        "colab": {
          "autoexec": {
            "startup": false,
            "wait_interval": 0
          },
          "base_uri": "https://localhost:8080/",
          "height": 102
        },
        "outputId": "a59473a9-016a-4a13-becb-df12f1bcfd6e",
        "executionInfo": {
          "status": "ok",
          "timestamp": 1529229923807,
          "user_tz": -330,
          "elapsed": 1190,
          "user": {
            "displayName": "Divyam Srivastava",
            "photoUrl": "//lh3.googleusercontent.com/-WZcfnp5pNtk/AAAAAAAAAAI/AAAAAAAAAXo/yGhBvt-FNho/s50-c-k-no/photo.jpg",
            "userId": "112121959970026521392"
          }
        }
      },
      "cell_type": "code",
      "source": [
        "pos_tweet[:5]"
      ],
      "execution_count": 7,
      "outputs": [
        {
          "output_type": "execute_result",
          "data": {
            "text/plain": [
              "['<user> i dunno justin read my mention or not . only justin and god knows about that , but i hope you will follow me #believe 15',\n",
              " \"because your logic is so dumb , i won't even crop out your name or your photo . tsk . <url>\",\n",
              " '\" <user> just put casper in a box ! \" looved the battle ! #crakkbitch',\n",
              " \"<user> <user> thanks sir > > don't trip lil mama ... just keep doin ya thang !\",\n",
              " 'visiting my brother tmr is the bestest birthday gift eveerrr ! ! !']"
            ]
          },
          "metadata": {
            "tags": []
          },
          "execution_count": 7
        }
      ]
    },
    {
      "metadata": {
        "id": "RvtmXMhsBrUK",
        "colab_type": "code",
        "colab": {
          "autoexec": {
            "startup": false,
            "wait_interval": 0
          },
          "base_uri": "https://localhost:8080/",
          "height": 289
        },
        "outputId": "21b8f866-d0e8-4cb2-afb1-fb99bc88410b",
        "executionInfo": {
          "status": "ok",
          "timestamp": 1529229231208,
          "user_tz": -330,
          "elapsed": 15170,
          "user": {
            "displayName": "Divyam Srivastava",
            "photoUrl": "//lh3.googleusercontent.com/-WZcfnp5pNtk/AAAAAAAAAAI/AAAAAAAAAXo/yGhBvt-FNho/s50-c-k-no/photo.jpg",
            "userId": "112121959970026521392"
          }
        }
      },
      "cell_type": "code",
      "source": [
        "nltk.download()"
      ],
      "execution_count": 9,
      "outputs": [
        {
          "output_type": "stream",
          "text": [
            "NLTK Downloader\n",
            "---------------------------------------------------------------------------\n",
            "    d) Download   l) List    u) Update   c) Config   h) Help   q) Quit\n",
            "---------------------------------------------------------------------------\n",
            "Downloader> d\n",
            "\n",
            "Download which package (l=list; x=cancel)?\n",
            "  Identifier> stopwords\n",
            "    Downloading package stopwords to /content/nltk_data...\n",
            "      Unzipping corpora/stopwords.zip.\n",
            "\n",
            "---------------------------------------------------------------------------\n",
            "    d) Download   l) List    u) Update   c) Config   h) Help   q) Quit\n",
            "---------------------------------------------------------------------------\n",
            "Downloader> q\n"
          ],
          "name": "stdout"
        },
        {
          "output_type": "execute_result",
          "data": {
            "text/plain": [
              "True"
            ]
          },
          "metadata": {
            "tags": []
          },
          "execution_count": 9
        }
      ]
    },
    {
      "metadata": {
        "id": "RLpfj4Ch927D",
        "colab_type": "code",
        "colab": {
          "autoexec": {
            "startup": false,
            "wait_interval": 0
          }
        }
      },
      "cell_type": "code",
      "source": [
        "posneg_no_stop = []\n",
        "bwords = stopwords.words('english')"
      ],
      "execution_count": 0,
      "outputs": []
    },
    {
      "metadata": {
        "id": "YAY-ik-qzKKt",
        "colab_type": "code",
        "colab": {
          "autoexec": {
            "startup": false,
            "wait_interval": 0
          }
        }
      },
      "cell_type": "code",
      "source": [
        "for line in pos_tweet :   #Removing stopwords from postive tweets\n",
        "  sum = ''\n",
        "  for w in line.split() :\n",
        "    if w not in bwords :\n",
        "      sum = sum + w + ' '\n",
        "  posneg_no_stop.append(sum.strip())\n",
        "\n",
        "for line in neg_tweet :    #Removing stopwords from negative tweets\n",
        "  sum = ''\n",
        "  for w in line.split() :\n",
        "    if w not in bwords :\n",
        "      sum = sum + w + ' '\n",
        "  posneg_no_stop.append(sum.strip())"
      ],
      "execution_count": 0,
      "outputs": []
    },
    {
      "metadata": {
        "id": "gp8bDc-HOpk3",
        "colab_type": "text"
      },
      "cell_type": "markdown",
      "source": [
        "**All tweets appended to a single list so that a single tokenizer could be used on all samples**"
      ]
    },
    {
      "metadata": {
        "id": "yUycRbK2Z1nV",
        "colab_type": "code",
        "colab": {
          "autoexec": {
            "startup": false,
            "wait_interval": 0
          },
          "base_uri": "https://localhost:8080/",
          "height": 102
        },
        "outputId": "e95828cd-94a2-4561-a4c3-2434c08e81a9",
        "executionInfo": {
          "status": "ok",
          "timestamp": 1529230249840,
          "user_tz": -330,
          "elapsed": 1489,
          "user": {
            "displayName": "Divyam Srivastava",
            "photoUrl": "//lh3.googleusercontent.com/-WZcfnp5pNtk/AAAAAAAAAAI/AAAAAAAAAXo/yGhBvt-FNho/s50-c-k-no/photo.jpg",
            "userId": "112121959970026521392"
          }
        }
      },
      "cell_type": "code",
      "source": [
        "posneg_no_stop[0:5]"
      ],
      "execution_count": 17,
      "outputs": [
        {
          "output_type": "execute_result",
          "data": {
            "text/plain": [
              "['<user> dunno justin read mention . justin god knows , hope follow #believe 15',\n",
              " 'logic dumb , even crop name photo . tsk . <url>',\n",
              " '\" <user> put casper box ! \" looved battle ! #crakkbitch',\n",
              " '<user> <user> thanks sir > > trip lil mama ... keep doin ya thang !',\n",
              " 'visiting brother tmr bestest birthday gift eveerrr ! ! !']"
            ]
          },
          "metadata": {
            "tags": []
          },
          "execution_count": 17
        }
      ]
    },
    {
      "metadata": {
        "id": "pDbUA4wKOgMT",
        "colab_type": "code",
        "colab": {
          "autoexec": {
            "startup": false,
            "wait_interval": 0
          },
          "base_uri": "https://localhost:8080/",
          "height": 102
        },
        "outputId": "a29bd9df-516a-487e-96cf-e893a79ab68e",
        "executionInfo": {
          "status": "ok",
          "timestamp": 1529230286528,
          "user_tz": -330,
          "elapsed": 1337,
          "user": {
            "displayName": "Divyam Srivastava",
            "photoUrl": "//lh3.googleusercontent.com/-WZcfnp5pNtk/AAAAAAAAAAI/AAAAAAAAAXo/yGhBvt-FNho/s50-c-k-no/photo.jpg",
            "userId": "112121959970026521392"
          }
        }
      },
      "cell_type": "code",
      "source": [
        "posneg_no_stop[1250000:1250005]"
      ],
      "execution_count": 18,
      "outputs": [
        {
          "output_type": "execute_result",
          "data": {
            "text/plain": [
              "['vinco tresorpack 6 ( difficulty 10 10 object : disassemble reassemble wooden pieces beautiful wo ... <url>',\n",
              " 'glad dot taks tomorrow ! ! #thankful #startho',\n",
              " '1-3 vs celtics regular season = fucked play playoffs',\n",
              " \"<user> could actually kill girl i'm sorry ! ! !\",\n",
              " '<user> <user> <user> find hard believe im afraid']"
            ]
          },
          "metadata": {
            "tags": []
          },
          "execution_count": 18
        }
      ]
    },
    {
      "metadata": {
        "id": "mx2pRy4MZVcc",
        "colab_type": "text"
      },
      "cell_type": "markdown",
      "source": [
        "**Text tokenization & sequence development for feeding to the ConvNets**"
      ]
    },
    {
      "metadata": {
        "id": "BcRw4E1xwdfa",
        "colab_type": "code",
        "colab": {
          "autoexec": {
            "startup": false,
            "wait_interval": 0
          }
        }
      },
      "cell_type": "code",
      "source": [
        "token = Tokenizer()"
      ],
      "execution_count": 0,
      "outputs": []
    },
    {
      "metadata": {
        "id": "CDBBcCmd7dU6",
        "colab_type": "code",
        "colab": {
          "autoexec": {
            "startup": false,
            "wait_interval": 0
          }
        }
      },
      "cell_type": "code",
      "source": [
        "token.fit_on_texts(posneg_no_stop)"
      ],
      "execution_count": 0,
      "outputs": []
    },
    {
      "metadata": {
        "id": "_NVhYC9AC6Z6",
        "colab_type": "code",
        "colab": {
          "autoexec": {
            "startup": false,
            "wait_interval": 0
          },
          "base_uri": "https://localhost:8080/",
          "height": 34
        },
        "outputId": "dd5554cb-5b71-4398-a0d8-8d716e0b2703",
        "executionInfo": {
          "status": "ok",
          "timestamp": 1529230594306,
          "user_tz": -330,
          "elapsed": 1226,
          "user": {
            "displayName": "Divyam Srivastava",
            "photoUrl": "//lh3.googleusercontent.com/-WZcfnp5pNtk/AAAAAAAAAAI/AAAAAAAAAXo/yGhBvt-FNho/s50-c-k-no/photo.jpg",
            "userId": "112121959970026521392"
          }
        }
      },
      "cell_type": "code",
      "source": [
        "len(token.word_index)"
      ],
      "execution_count": 22,
      "outputs": [
        {
          "output_type": "execute_result",
          "data": {
            "text/plain": [
              "508195"
            ]
          },
          "metadata": {
            "tags": []
          },
          "execution_count": 22
        }
      ]
    },
    {
      "metadata": {
        "id": "TZpQS-hPD7C5",
        "colab_type": "code",
        "colab": {
          "autoexec": {
            "startup": false,
            "wait_interval": 0
          }
        }
      },
      "cell_type": "code",
      "source": [
        "seq = token.texts_to_sequences(posneg_no_stop)"
      ],
      "execution_count": 0,
      "outputs": []
    },
    {
      "metadata": {
        "id": "MUubO3mNQ-n1",
        "colab_type": "code",
        "colab": {
          "autoexec": {
            "startup": false,
            "wait_interval": 0
          },
          "base_uri": "https://localhost:8080/",
          "height": 442
        },
        "outputId": "12622b4d-b029-49c0-e36c-37dfdc45d1bf",
        "executionInfo": {
          "status": "ok",
          "timestamp": 1529230974610,
          "user_tz": -330,
          "elapsed": 1373,
          "user": {
            "displayName": "Divyam Srivastava",
            "photoUrl": "//lh3.googleusercontent.com/-WZcfnp5pNtk/AAAAAAAAAAI/AAAAAAAAAXo/yGhBvt-FNho/s50-c-k-no/photo.jpg",
            "userId": "112121959970026521392"
          }
        }
      },
      "cell_type": "code",
      "source": [
        "seq[:10]   #word vectors"
      ],
      "execution_count": 29,
      "outputs": [
        {
          "output_type": "execute_result",
          "data": {
            "text/plain": [
              "[[1, 1729, 407, 311, 936, 407, 175, 695, 60, 15, 266, 389],\n",
              " [2998, 1612, 83, 10349, 248, 503, 6285, 2],\n",
              " [1, 236, 18533, 571, 93835, 2193, 209563],\n",
              " [1, 1, 25, 1730, 744, 478, 1296, 160, 1703, 203, 3039],\n",
              " [4231, 387, 2309, 4655, 111, 967, 74220],\n",
              " [1, 465, 209564, 99, 622, 132, 14, 17],\n",
              " [1,\n",
              "  8593,\n",
              "  61,\n",
              "  18171,\n",
              "  72,\n",
              "  208,\n",
              "  93836,\n",
              "  72,\n",
              "  1645,\n",
              "  2985,\n",
              "  1431,\n",
              "  7,\n",
              "  640,\n",
              "  111607,\n",
              "  7,\n",
              "  21410],\n",
              " [4139, 193, 2833, 4139, 4, 1, 55076, 762, 16979, 1],\n",
              " [1, 272, 49, 3810, 344],\n",
              " [5616]]"
            ]
          },
          "metadata": {
            "tags": []
          },
          "execution_count": 29
        }
      ]
    },
    {
      "metadata": {
        "id": "A3gQw90qIZyX",
        "colab_type": "code",
        "colab": {
          "autoexec": {
            "startup": false,
            "wait_interval": 0
          }
        }
      },
      "cell_type": "code",
      "source": [
        "p = 0\n",
        "for i in seq :\n",
        "  if len(i) > p :\n",
        "    p = len(i)"
      ],
      "execution_count": 0,
      "outputs": []
    },
    {
      "metadata": {
        "id": "eomsjut4Igdm",
        "colab_type": "code",
        "colab": {
          "autoexec": {
            "startup": false,
            "wait_interval": 0
          }
        }
      },
      "cell_type": "code",
      "source": [
        "seq = pad_sequences(seq,maxlen = p+1,padding = 'post', value = 0)"
      ],
      "execution_count": 0,
      "outputs": []
    },
    {
      "metadata": {
        "id": "-7boSxv2I38g",
        "colab_type": "code",
        "colab": {
          "autoexec": {
            "startup": false,
            "wait_interval": 0
          },
          "base_uri": "https://localhost:8080/",
          "height": 34
        },
        "outputId": "a1f55986-482a-437c-858e-bbe97f282989",
        "executionInfo": {
          "status": "ok",
          "timestamp": 1529231144797,
          "user_tz": -330,
          "elapsed": 1272,
          "user": {
            "displayName": "Divyam Srivastava",
            "photoUrl": "//lh3.googleusercontent.com/-WZcfnp5pNtk/AAAAAAAAAAI/AAAAAAAAAXo/yGhBvt-FNho/s50-c-k-no/photo.jpg",
            "userId": "112121959970026521392"
          }
        }
      },
      "cell_type": "code",
      "source": [
        "seq.shape"
      ],
      "execution_count": 35,
      "outputs": [
        {
          "output_type": "execute_result",
          "data": {
            "text/plain": [
              "(2500000, 65)"
            ]
          },
          "metadata": {
            "tags": []
          },
          "execution_count": 35
        }
      ]
    },
    {
      "metadata": {
        "id": "maPH8i7VJuLh",
        "colab_type": "code",
        "colab": {
          "autoexec": {
            "startup": false,
            "wait_interval": 0
          },
          "base_uri": "https://localhost:8080/",
          "height": 136
        },
        "outputId": "cffac47e-46bc-40f5-c6c1-8076194f4762",
        "executionInfo": {
          "status": "ok",
          "timestamp": 1529231249854,
          "user_tz": -330,
          "elapsed": 1178,
          "user": {
            "displayName": "Divyam Srivastava",
            "photoUrl": "//lh3.googleusercontent.com/-WZcfnp5pNtk/AAAAAAAAAAI/AAAAAAAAAXo/yGhBvt-FNho/s50-c-k-no/photo.jpg",
            "userId": "112121959970026521392"
          }
        }
      },
      "cell_type": "code",
      "source": [
        "seq"
      ],
      "execution_count": 36,
      "outputs": [
        {
          "output_type": "execute_result",
          "data": {
            "text/plain": [
              "array([[    1,  1729,   407, ...,     0,     0,     0],\n",
              "       [ 2998,  1612,    83, ...,     0,     0,     0],\n",
              "       [    1,   236, 18533, ...,     0,     0,     0],\n",
              "       ...,\n",
              "       [    1, 26737,   782, ...,     0,     0,     0],\n",
              "       [ 8672,  3201,  1992, ...,     0,     0,     0],\n",
              "       [    1,  7341,  1647, ...,     0,     0,     0]], dtype=int32)"
            ]
          },
          "metadata": {
            "tags": []
          },
          "execution_count": 36
        }
      ]
    },
    {
      "metadata": {
        "id": "e0JZlhFTZs29",
        "colab_type": "text"
      },
      "cell_type": "markdown",
      "source": [
        "**Data Preparation and train test split   (1 : positive tweet  | 0 : Negative Tweet)  **"
      ]
    },
    {
      "metadata": {
        "id": "W930xqMbSQx3",
        "colab_type": "code",
        "colab": {
          "autoexec": {
            "startup": false,
            "wait_interval": 0
          }
        }
      },
      "cell_type": "code",
      "source": [
        "X = np.asmatrix(seq)"
      ],
      "execution_count": 0,
      "outputs": []
    },
    {
      "metadata": {
        "id": "ImkanC9FTXmS",
        "colab_type": "code",
        "colab": {
          "autoexec": {
            "startup": false,
            "wait_interval": 0
          }
        }
      },
      "cell_type": "code",
      "source": [
        "y = np.ones((1250000,1))"
      ],
      "execution_count": 0,
      "outputs": []
    },
    {
      "metadata": {
        "id": "4FGzD3n0TYmd",
        "colab_type": "code",
        "colab": {
          "autoexec": {
            "startup": false,
            "wait_interval": 0
          }
        }
      },
      "cell_type": "code",
      "source": [
        "y = np.append(y,np.zeros((1250000,1)))"
      ],
      "execution_count": 0,
      "outputs": []
    },
    {
      "metadata": {
        "id": "-GNNTkvjTg8F",
        "colab_type": "code",
        "colab": {
          "autoexec": {
            "startup": false,
            "wait_interval": 0
          }
        }
      },
      "cell_type": "code",
      "source": [
        "y = np.asmatrix(np.reshape(y,(2500000,1)))"
      ],
      "execution_count": 0,
      "outputs": []
    },
    {
      "metadata": {
        "id": "4G92IhPbWO-B",
        "colab_type": "code",
        "colab": {
          "autoexec": {
            "startup": false,
            "wait_interval": 0
          }
        }
      },
      "cell_type": "code",
      "source": [
        "X_train, X_test, y_train, y_test = train_test_split(X, y, test_size = 0.2, random_state = 92)"
      ],
      "execution_count": 0,
      "outputs": []
    },
    {
      "metadata": {
        "id": "qRu3GUXNZ8PB",
        "colab_type": "text"
      },
      "cell_type": "markdown",
      "source": [
        "**ConvNet Architectures (without embedding layer)**"
      ]
    },
    {
      "metadata": {
        "id": "-GDG3DA-aCDX",
        "colab_type": "code",
        "colab": {
          "autoexec": {
            "startup": false,
            "wait_interval": 0
          }
        }
      },
      "cell_type": "code",
      "source": [
        "X_train = np.array(X_train).reshape((2000000,65,1))\n",
        "X_test = np.array(X_test).reshape((500000,65,1))\n"
      ],
      "execution_count": 0,
      "outputs": []
    },
    {
      "metadata": {
        "id": "VoPv4-YFy-Fg",
        "colab_type": "code",
        "colab": {
          "autoexec": {
            "startup": false,
            "wait_interval": 0
          }
        }
      },
      "cell_type": "code",
      "source": [
        "X_train_E = np.array(X_train).reshape((2000000,65))\n",
        "X_test_E = np.array(X_test).reshape((500000,65))"
      ],
      "execution_count": 0,
      "outputs": []
    },
    {
      "metadata": {
        "id": "Mw5VQRNmh4y4",
        "colab_type": "code",
        "colab": {
          "autoexec": {
            "startup": false,
            "wait_interval": 0
          },
          "base_uri": "https://localhost:8080/",
          "height": 34
        },
        "outputId": "48ff29f2-8dea-46a2-a05a-62c670c4a63f",
        "executionInfo": {
          "status": "ok",
          "timestamp": 1529239905098,
          "user_tz": -330,
          "elapsed": 1114,
          "user": {
            "displayName": "Divyam Srivastava",
            "photoUrl": "//lh3.googleusercontent.com/-WZcfnp5pNtk/AAAAAAAAAAI/AAAAAAAAAXo/yGhBvt-FNho/s50-c-k-no/photo.jpg",
            "userId": "112121959970026521392"
          }
        }
      },
      "cell_type": "code",
      "source": [
        "X_train.shape"
      ],
      "execution_count": 136,
      "outputs": [
        {
          "output_type": "execute_result",
          "data": {
            "text/plain": [
              "(2000000, 65, 1)"
            ]
          },
          "metadata": {
            "tags": []
          },
          "execution_count": 136
        }
      ]
    },
    {
      "metadata": {
        "id": "FkKIW6EGaRmt",
        "colab_type": "code",
        "colab": {
          "autoexec": {
            "startup": false,
            "wait_interval": 0
          },
          "base_uri": "https://localhost:8080/",
          "height": 425
        },
        "outputId": "9330c8ef-52c2-415c-9f26-ff62ad0e328b",
        "executionInfo": {
          "status": "ok",
          "timestamp": 1529238023743,
          "user_tz": -330,
          "elapsed": 1687,
          "user": {
            "displayName": "Divyam Srivastava",
            "photoUrl": "//lh3.googleusercontent.com/-WZcfnp5pNtk/AAAAAAAAAAI/AAAAAAAAAXo/yGhBvt-FNho/s50-c-k-no/photo.jpg",
            "userId": "112121959970026521392"
          }
        }
      },
      "cell_type": "code",
      "source": [
        "model = Sequential()\n",
        "model.add(Conv1D(32, 3, input_shape=(65,1), padding='same', activation='relu'))\n",
        "model.add(MaxPooling1D(pool_size=2))\n",
        "\n",
        "model.add(Conv1D(64, 3, padding='same', activation='relu'))\n",
        "model.add(MaxPooling1D(pool_size=2))\n",
        "\n",
        "model.add(Flatten())\n",
        "model.add(Dense(800, activation='relu'))\n",
        "model.add(Dropout(0.5))\n",
        "model.add(Dense(1, activation='sigmoid'))\n",
        "model.compile(loss='binary_crossentropy', optimizer='adam', metrics=['accuracy'])\n",
        "print(model.summary())"
      ],
      "execution_count": 116,
      "outputs": [
        {
          "output_type": "stream",
          "text": [
            "_________________________________________________________________\n",
            "Layer (type)                 Output Shape              Param #   \n",
            "=================================================================\n",
            "conv1d_61 (Conv1D)           (None, 65, 32)            128       \n",
            "_________________________________________________________________\n",
            "max_pooling1d_61 (MaxPooling (None, 32, 32)            0         \n",
            "_________________________________________________________________\n",
            "conv1d_62 (Conv1D)           (None, 32, 64)            6208      \n",
            "_________________________________________________________________\n",
            "max_pooling1d_62 (MaxPooling (None, 16, 64)            0         \n",
            "_________________________________________________________________\n",
            "flatten_10 (Flatten)         (None, 1024)              0         \n",
            "_________________________________________________________________\n",
            "dense_33 (Dense)             (None, 800)               820000    \n",
            "_________________________________________________________________\n",
            "dropout_25 (Dropout)         (None, 800)               0         \n",
            "_________________________________________________________________\n",
            "dense_34 (Dense)             (None, 1)                 801       \n",
            "=================================================================\n",
            "Total params: 827,137\n",
            "Trainable params: 827,137\n",
            "Non-trainable params: 0\n",
            "_________________________________________________________________\n",
            "None\n"
          ],
          "name": "stdout"
        }
      ]
    },
    {
      "metadata": {
        "id": "F4mtS5t9cHRr",
        "colab_type": "code",
        "colab": {
          "autoexec": {
            "startup": false,
            "wait_interval": 0
          },
          "base_uri": "https://localhost:8080/",
          "height": 241
        },
        "outputId": "4eb3afd8-1fad-46e8-8178-09dff8d245a0",
        "executionInfo": {
          "status": "ok",
          "timestamp": 1529238224692,
          "user_tz": -330,
          "elapsed": 183054,
          "user": {
            "displayName": "Divyam Srivastava",
            "photoUrl": "//lh3.googleusercontent.com/-WZcfnp5pNtk/AAAAAAAAAAI/AAAAAAAAAXo/yGhBvt-FNho/s50-c-k-no/photo.jpg",
            "userId": "112121959970026521392"
          }
        }
      },
      "cell_type": "code",
      "source": [
        "model.fit(X_train, y_train, validation_split = 0.2, epochs=5, batch_size=1000)"
      ],
      "execution_count": 117,
      "outputs": [
        {
          "output_type": "stream",
          "text": [
            "Train on 1600000 samples, validate on 400000 samples\n",
            "Epoch 1/5\n",
            "1600000/1600000 [==============================] - 38s 24us/step - loss: 3.8436 - acc: 0.5744 - val_loss: 0.6604 - val_acc: 0.6003\n",
            "Epoch 2/5\n",
            " 163000/1600000 [==>...........................] - ETA: 30s - loss: 0.6641 - acc: 0.5975"
          ],
          "name": "stdout"
        },
        {
          "output_type": "stream",
          "text": [
            "1600000/1600000 [==============================] - 36s 23us/step - loss: 0.6628 - acc: 0.6004 - val_loss: 0.6600 - val_acc: 0.6019\n",
            "Epoch 3/5\n",
            " 720000/1600000 [============>.................] - ETA: 18s - loss: 0.6632 - acc: 0.6007"
          ],
          "name": "stdout"
        },
        {
          "output_type": "stream",
          "text": [
            "1600000/1600000 [==============================] - 36s 22us/step - loss: 0.6624 - acc: 0.6012 - val_loss: 0.6589 - val_acc: 0.6022\n",
            "Epoch 4/5\n",
            " 951000/1600000 [================>.............] - ETA: 13s - loss: 0.6598 - acc: 0.6012"
          ],
          "name": "stdout"
        },
        {
          "output_type": "stream",
          "text": [
            "1600000/1600000 [==============================] - 36s 22us/step - loss: 0.6590 - acc: 0.6014 - val_loss: 0.6520 - val_acc: 0.6027\n",
            "Epoch 5/5\n",
            "1043000/1600000 [==================>...........] - ETA: 11s - loss: 0.6548 - acc: 0.6017"
          ],
          "name": "stdout"
        },
        {
          "output_type": "stream",
          "text": [
            "1600000/1600000 [==============================] - 36s 22us/step - loss: 0.6537 - acc: 0.6015 - val_loss: 0.6451 - val_acc: 0.6024\n"
          ],
          "name": "stdout"
        },
        {
          "output_type": "execute_result",
          "data": {
            "text/plain": [
              "<keras.callbacks.History at 0x7f40cd3acb38>"
            ]
          },
          "metadata": {
            "tags": []
          },
          "execution_count": 117
        }
      ]
    },
    {
      "metadata": {
        "id": "QCDnz_iChmF1",
        "colab_type": "code",
        "colab": {
          "autoexec": {
            "startup": false,
            "wait_interval": 0
          },
          "base_uri": "https://localhost:8080/",
          "height": 34
        },
        "outputId": "8007053d-ca3c-4e29-f024-2f8385a70d5d",
        "executionInfo": {
          "status": "ok",
          "timestamp": 1529238278273,
          "user_tz": -330,
          "elapsed": 49817,
          "user": {
            "displayName": "Divyam Srivastava",
            "photoUrl": "//lh3.googleusercontent.com/-WZcfnp5pNtk/AAAAAAAAAAI/AAAAAAAAAXo/yGhBvt-FNho/s50-c-k-no/photo.jpg",
            "userId": "112121959970026521392"
          }
        }
      },
      "cell_type": "code",
      "source": [
        "scores = model.evaluate(X_test,y_test,verbose = 0)\n",
        "print(\"Accuracy: %.2f%%\" % (scores[1]*100))"
      ],
      "execution_count": 118,
      "outputs": [
        {
          "output_type": "stream",
          "text": [
            "Accuracy: 60.16%\n"
          ],
          "name": "stdout"
        }
      ]
    },
    {
      "metadata": {
        "id": "vVLyxdAFubCk",
        "colab_type": "text"
      },
      "cell_type": "markdown",
      "source": [
        "**ConvNet Architectures (with embedding layer)**"
      ]
    },
    {
      "metadata": {
        "id": "XvZ-peXZwXj2",
        "colab_type": "code",
        "colab": {
          "autoexec": {
            "startup": false,
            "wait_interval": 0
          },
          "base_uri": "https://localhost:8080/",
          "height": 17034
        },
        "outputId": "3eaaa678-9bb3-4159-a4ac-511030d2e140",
        "executionInfo": {
          "status": "ok",
          "timestamp": 1529239326632,
          "user_tz": -330,
          "elapsed": 1113,
          "user": {
            "displayName": "Divyam Srivastava",
            "photoUrl": "//lh3.googleusercontent.com/-WZcfnp5pNtk/AAAAAAAAAAI/AAAAAAAAAXo/yGhBvt-FNho/s50-c-k-no/photo.jpg",
            "userId": "112121959970026521392"
          }
        }
      },
      "cell_type": "code",
      "source": [
        "token.word_index"
      ],
      "execution_count": 121,
      "outputs": [
        {
          "output_type": "execute_result",
          "data": {
            "text/plain": [
              "{'user': 1,\n",
              " 'url': 2,\n",
              " \"i'm\": 3,\n",
              " 'rt': 4,\n",
              " 'love': 5,\n",
              " 'like': 6,\n",
              " '3': 7,\n",
              " 'get': 8,\n",
              " 'frame': 9,\n",
              " 'u': 10,\n",
              " 'lol': 11,\n",
              " 'good': 12,\n",
              " 'one': 13,\n",
              " 'know': 14,\n",
              " 'follow': 15,\n",
              " 'go': 16,\n",
              " 'please': 17,\n",
              " 'day': 18,\n",
              " '2': 19,\n",
              " \"'\": 20,\n",
              " 'see': 21,\n",
              " 'want': 22,\n",
              " 'back': 23,\n",
              " '1': 24,\n",
              " 'thanks': 25,\n",
              " 'x': 26,\n",
              " 'time': 27,\n",
              " 'got': 28,\n",
              " 'really': 29,\n",
              " 'today': 30,\n",
              " \"can't\": 31,\n",
              " 'im': 32,\n",
              " 'haha': 33,\n",
              " 'going': 34,\n",
              " 'think': 35,\n",
              " 'miss': 36,\n",
              " 'new': 37,\n",
              " 'need': 38,\n",
              " 'much': 39,\n",
              " 'well': 40,\n",
              " 'would': 41,\n",
              " 'make': 42,\n",
              " '4': 43,\n",
              " 'paperback': 44,\n",
              " 'come': 45,\n",
              " 'still': 46,\n",
              " 'oh': 47,\n",
              " 'thank': 48,\n",
              " \"i'll\": 49,\n",
              " 'best': 50,\n",
              " 'night': 51,\n",
              " 'never': 52,\n",
              " 'happy': 53,\n",
              " 'wish': 54,\n",
              " '5': 55,\n",
              " 'right': 56,\n",
              " 'tomorrow': 57,\n",
              " 'work': 58,\n",
              " \"that's\": 59,\n",
              " 'hope': 60,\n",
              " 'feel': 61,\n",
              " 'people': 62,\n",
              " 'black': 63,\n",
              " 'yeah': 64,\n",
              " 'gonna': 65,\n",
              " 'wanna': 66,\n",
              " 'xx': 67,\n",
              " 'say': 68,\n",
              " 'picture': 69,\n",
              " 'home': 70,\n",
              " 'pack': 71,\n",
              " 'life': 72,\n",
              " 'complete': 73,\n",
              " 'school': 74,\n",
              " 'great': 75,\n",
              " 'way': 76,\n",
              " 'always': 77,\n",
              " 'last': 78,\n",
              " 'could': 79,\n",
              " 'd': 80,\n",
              " 'wait': 81,\n",
              " 'us': 82,\n",
              " 'even': 83,\n",
              " 'better': 84,\n",
              " 'girl': 85,\n",
              " '8': 86,\n",
              " 'sorry': 87,\n",
              " 'wide': 88,\n",
              " 'xxx': 89,\n",
              " 'tonight': 90,\n",
              " 'take': 91,\n",
              " 'hey': 92,\n",
              " 'bad': 93,\n",
              " 'hate': 94,\n",
              " 'sad': 95,\n",
              " 'though': 96,\n",
              " 'poster': 97,\n",
              " '6': 98,\n",
              " 'tweet': 99,\n",
              " 'custom': 100,\n",
              " 'dont': 101,\n",
              " 'first': 102,\n",
              " 'look': 103,\n",
              " 'next': 104,\n",
              " 'yes': 105,\n",
              " 'baby': 106,\n",
              " 'twitter': 107,\n",
              " 'sleep': 108,\n",
              " 'morning': 109,\n",
              " 'nice': 110,\n",
              " 'birthday': 111,\n",
              " 'man': 112,\n",
              " \"i've\": 113,\n",
              " 'friends': 114,\n",
              " 'guys': 115,\n",
              " 'p': 116,\n",
              " 'made': 117,\n",
              " 'edition': 118,\n",
              " 'someone': 119,\n",
              " 'live': 120,\n",
              " 'ever': 121,\n",
              " 'world': 122,\n",
              " 'little': 123,\n",
              " 'phone': 124,\n",
              " 'omg': 125,\n",
              " 'watch': 126,\n",
              " 'tell': 127,\n",
              " 'getting': 128,\n",
              " 'fun': 129,\n",
              " '10': 130,\n",
              " 'everyone': 131,\n",
              " 'let': 132,\n",
              " 'long': 133,\n",
              " 'something': 134,\n",
              " 'okay': 135,\n",
              " 'year': 136,\n",
              " 'give': 137,\n",
              " 'amazing': 138,\n",
              " 'week': 139,\n",
              " 'video': 140,\n",
              " 'soon': 141,\n",
              " 'said': 142,\n",
              " 'w': 143,\n",
              " 'thing': 144,\n",
              " 'ur': 145,\n",
              " 'bed': 146,\n",
              " 'shit': 147,\n",
              " 'beautiful': 148,\n",
              " 'talk': 149,\n",
              " 'sure': 150,\n",
              " 'book': 151,\n",
              " 'set': 152,\n",
              " 'done': 153,\n",
              " 'friend': 154,\n",
              " 'cute': 155,\n",
              " 'big': 156,\n",
              " 'hahaha': 157,\n",
              " 'game': 158,\n",
              " 'cause': 159,\n",
              " 'keep': 160,\n",
              " 'ok': 161,\n",
              " 'following': 162,\n",
              " 'pretty': 163,\n",
              " 'white': 164,\n",
              " 'days': 165,\n",
              " 'hardcover': 166,\n",
              " 'weekend': 167,\n",
              " '12': 168,\n",
              " 'help': 169,\n",
              " 'n': 170,\n",
              " 'tho': 171,\n",
              " 'two': 172,\n",
              " 'things': 173,\n",
              " 'text': 174,\n",
              " 'god': 175,\n",
              " 'show': 176,\n",
              " 'high': 177,\n",
              " 'cd': 178,\n",
              " 'cant': 179,\n",
              " 'everything': 180,\n",
              " '7': 181,\n",
              " 'already': 182,\n",
              " 'thought': 183,\n",
              " 'hi': 184,\n",
              " 'dvd': 185,\n",
              " 'old': 186,\n",
              " 'series': 187,\n",
              " 'every': 188,\n",
              " 'call': 189,\n",
              " 'fuck': 190,\n",
              " 'b': 191,\n",
              " 'find': 192,\n",
              " 'hard': 193,\n",
              " 'mean': 194,\n",
              " 'ill': 195,\n",
              " 'case': 196,\n",
              " 'makes': 197,\n",
              " 'girls': 198,\n",
              " 'cool': 199,\n",
              " 'actually': 200,\n",
              " 'another': 201,\n",
              " 'watching': 202,\n",
              " 'ya': 203,\n",
              " \"he's\": 204,\n",
              " 'music': 205,\n",
              " 'looking': 206,\n",
              " 'away': 207,\n",
              " 'song': 208,\n",
              " 'wood': 209,\n",
              " 'try': 210,\n",
              " 'lmao': 211,\n",
              " 'coming': 212,\n",
              " 'stop': 213,\n",
              " 'aww': 214,\n",
              " 'may': 215,\n",
              " 'feeling': 216,\n",
              " 'hair': 217,\n",
              " 'thats': 218,\n",
              " '0': 219,\n",
              " 'without': 220,\n",
              " 'true': 221,\n",
              " 'awesome': 222,\n",
              " 'face': 223,\n",
              " 'nothing': 224,\n",
              " 'ready': 225,\n",
              " 'via': 226,\n",
              " 'must': 227,\n",
              " 'maybe': 228,\n",
              " 'sooo': 229,\n",
              " 'free': 230,\n",
              " 'many': 231,\n",
              " 'play': 232,\n",
              " '20': 233,\n",
              " 'smile': 234,\n",
              " 'guess': 235,\n",
              " 'put': 236,\n",
              " 'house': 237,\n",
              " 'ass': 238,\n",
              " 'audio': 239,\n",
              " 'real': 240,\n",
              " 'since': 241,\n",
              " 'heart': 242,\n",
              " 'meet': 243,\n",
              " 'friday': 244,\n",
              " 'r': 245,\n",
              " 'followers': 246,\n",
              " 'anything': 247,\n",
              " 'name': 248,\n",
              " 'yet': 249,\n",
              " 'c': 250,\n",
              " 'damn': 251,\n",
              " 'use': 252,\n",
              " '9': 253,\n",
              " 'left': 254,\n",
              " 'class': 255,\n",
              " 'boys': 256,\n",
              " 'awww': 257,\n",
              " 'hot': 258,\n",
              " 'cry': 259,\n",
              " 'head': 260,\n",
              " 'start': 261,\n",
              " 'lot': 262,\n",
              " 'went': 263,\n",
              " 'boy': 264,\n",
              " 'mom': 265,\n",
              " 'believe': 266,\n",
              " 'person': 267,\n",
              " 'leave': 268,\n",
              " 'wanted': 269,\n",
              " 'end': 270,\n",
              " 'red': 271,\n",
              " 'saw': 272,\n",
              " 'tired': 273,\n",
              " 'excited': 274,\n",
              " 'finally': 275,\n",
              " 'funny': 276,\n",
              " 'tweets': 277,\n",
              " 'kit': 278,\n",
              " 'sick': 279,\n",
              " 'also': 280,\n",
              " 'battery': 281,\n",
              " \"what's\": 282,\n",
              " 'might': 283,\n",
              " 'missed': 284,\n",
              " 'family': 285,\n",
              " 'anymore': 286,\n",
              " 'stay': 287,\n",
              " 'trying': 288,\n",
              " 'around': 289,\n",
              " 'care': 290,\n",
              " 'mine': 291,\n",
              " 'years': 292,\n",
              " 'gone': 293,\n",
              " 'memory': 294,\n",
              " 'wrong': 295,\n",
              " 'gotta': 296,\n",
              " 'early': 297,\n",
              " 'eat': 298,\n",
              " 'perfect': 299,\n",
              " 'mind': 300,\n",
              " 'making': 301,\n",
              " '100': 302,\n",
              " 'sweet': 303,\n",
              " 'top': 304,\n",
              " 'news': 305,\n",
              " \"i'd\": 306,\n",
              " 'blue': 307,\n",
              " 'car': 308,\n",
              " 'fans': 309,\n",
              " 'check': 310,\n",
              " 'read': 311,\n",
              " 'times': 312,\n",
              " 'food': 313,\n",
              " 'brand': 314,\n",
              " 'seen': 315,\n",
              " 'ounce': 316,\n",
              " 'inch': 317,\n",
              " 'summer': 318,\n",
              " 'glad': 319,\n",
              " 'remember': 320,\n",
              " 'kindle': 321,\n",
              " '25': 322,\n",
              " 'looks': 323,\n",
              " 'aw': 324,\n",
              " 'talking': 325,\n",
              " 'brown': 326,\n",
              " 'laptop': 327,\n",
              " 'working': 328,\n",
              " 'job': 329,\n",
              " 'guide': 330,\n",
              " 'part': 331,\n",
              " 'told': 332,\n",
              " 'l': 333,\n",
              " 'lost': 334,\n",
              " 'hear': 335,\n",
              " 'babe': 336,\n",
              " 'guy': 337,\n",
              " 'share': 338,\n",
              " 'anyone': 339,\n",
              " 'ask': 340,\n",
              " 'money': 341,\n",
              " 'full': 342,\n",
              " '30': 343,\n",
              " 'bit': 344,\n",
              " 'whole': 345,\n",
              " 'luck': 346,\n",
              " 'liam': 347,\n",
              " 'together': 348,\n",
              " 'favorite': 349,\n",
              " 'waiting': 350,\n",
              " 'boyfriend': 351,\n",
              " '11': 352,\n",
              " 'thinking': 353,\n",
              " \"there's\": 354,\n",
              " 'fine': 355,\n",
              " 'till': 356,\n",
              " \"we're\": 357,\n",
              " 'party': 358,\n",
              " 'used': 359,\n",
              " 'story': 360,\n",
              " 'enough': 361,\n",
              " 'welcome': 362,\n",
              " 'fan': 363,\n",
              " 'lucky': 364,\n",
              " 'bitch': 365,\n",
              " 'movie': 366,\n",
              " 'hours': 367,\n",
              " 'win': 368,\n",
              " '16': 369,\n",
              " 'wow': 370,\n",
              " 'enjoy': 371,\n",
              " 'super': 372,\n",
              " 'seeing': 373,\n",
              " 'cold': 374,\n",
              " 'dream': 375,\n",
              " 'course': 376,\n",
              " 'late': 377,\n",
              " 'later': 378,\n",
              " 'room': 379,\n",
              " 'bring': 380,\n",
              " 'stuff': 381,\n",
              " 'buy': 382,\n",
              " 'e': 383,\n",
              " 'hp': 384,\n",
              " 'ugh': 385,\n",
              " 'team': 386,\n",
              " 'brother': 387,\n",
              " \"let's\": 388,\n",
              " '15': 389,\n",
              " 'ha': 390,\n",
              " 'wants': 391,\n",
              " 'a': 392,\n",
              " 'yesterday': 393,\n",
              " 'found': 394,\n",
              " 'sexy': 395,\n",
              " 'mad': 396,\n",
              " 'size': 397,\n",
              " 'followed': 398,\n",
              " \"they're\": 399,\n",
              " 'change': 400,\n",
              " 'hehe': 401,\n",
              " 'replacement': 402,\n",
              " 'came': 403,\n",
              " 'far': 404,\n",
              " 'saying': 405,\n",
              " 'special': 406,\n",
              " 'justin': 407,\n",
              " 'sucks': 408,\n",
              " 'send': 409,\n",
              " 'lovely': 410,\n",
              " 'alone': 411,\n",
              " 'shoutout': 412,\n",
              " 'rain': 413,\n",
              " 'soo': 414,\n",
              " 'hell': 415,\n",
              " 'english': 416,\n",
              " 'bout': 417,\n",
              " 'hit': 418,\n",
              " 'fucking': 419,\n",
              " 'moment': 420,\n",
              " 'single': 421,\n",
              " 'weather': 422,\n",
              " 'least': 423,\n",
              " 'body': 424,\n",
              " 'f': 425,\n",
              " 'crazy': 426,\n",
              " 'probably': 427,\n",
              " 'hurt': 428,\n",
              " 'forever': 429,\n",
              " 'crying': 430,\n",
              " 'else': 431,\n",
              " 'proud': 432,\n",
              " 'goes': 433,\n",
              " 'almost': 434,\n",
              " '18': 435,\n",
              " 'ipod': 436,\n",
              " 'tech': 437,\n",
              " 'date': 438,\n",
              " 'notice': 439,\n",
              " 'power': 440,\n",
              " 'green': 441,\n",
              " 'retweet': 442,\n",
              " 'boo': 443,\n",
              " 'light': 444,\n",
              " 'season': 445,\n",
              " 'seriously': 446,\n",
              " 'place': 447,\n",
              " 'half': 448,\n",
              " 'voice': 449,\n",
              " 'saturday': 450,\n",
              " 'dad': 451,\n",
              " 'camera': 452,\n",
              " 'hello': 453,\n",
              " 'playing': 454,\n",
              " 'missing': 455,\n",
              " 'eyes': 456,\n",
              " 'health': 457,\n",
              " 'digital': 458,\n",
              " 'small': 459,\n",
              " 'gets': 460,\n",
              " 'sister': 461,\n",
              " 'comes': 462,\n",
              " 'oz': 463,\n",
              " 'yea': 464,\n",
              " 'yay': 465,\n",
              " 'cable': 466,\n",
              " 'stupid': 467,\n",
              " 'oomf': 468,\n",
              " 'called': 469,\n",
              " 'heard': 470,\n",
              " 'goodnight': 471,\n",
              " 'ima': 472,\n",
              " 'didnt': 473,\n",
              " 'album': 474,\n",
              " 'forget': 475,\n",
              " 'easy': 476,\n",
              " 'ah': 477,\n",
              " 'lil': 478,\n",
              " 'nooo': 479,\n",
              " 'na': 480,\n",
              " 'cuz': 481,\n",
              " 'pic': 482,\n",
              " 'idk': 483,\n",
              " 'number': 484,\n",
              " 'niall': 485,\n",
              " 'american': 486,\n",
              " 'beauty': 487,\n",
              " '50': 488,\n",
              " 'dear': 489,\n",
              " '24': 490,\n",
              " 'hopefully': 491,\n",
              " 'wake': 492,\n",
              " 'bored': 493,\n",
              " 'poor': 494,\n",
              " 'color': 495,\n",
              " 'ram': 496,\n",
              " 'sounds': 497,\n",
              " '2012': 498,\n",
              " 'hurts': 499,\n",
              " 'dog': 500,\n",
              " 'reply': 501,\n",
              " 'kids': 502,\n",
              " 'photo': 503,\n",
              " 'harry': 504,\n",
              " 'weeks': 505,\n",
              " 'needs': 506,\n",
              " 'able': 507,\n",
              " 'dm': 508,\n",
              " 'drive': 509,\n",
              " 'happen': 510,\n",
              " 'classic': 511,\n",
              " 'ago': 512,\n",
              " 'says': 513,\n",
              " 'k': 514,\n",
              " 'second': 515,\n",
              " 'hour': 516,\n",
              " 'tv': 517,\n",
              " 'dance': 518,\n",
              " 'dark': 519,\n",
              " 'yo': 520,\n",
              " 'tickets': 521,\n",
              " 'run': 522,\n",
              " 'screen': 523,\n",
              " 'v': 524,\n",
              " 'tour': 525,\n",
              " 'test': 526,\n",
              " 'worst': 527,\n",
              " 'rest': 528,\n",
              " 'sometimes': 529,\n",
              " 'either': 530,\n",
              " 'forward': 531,\n",
              " 'jealous': 532,\n",
              " 'history': 533,\n",
              " 'laugh': 534,\n",
              " 'gold': 535,\n",
              " 'concert': 536,\n",
              " 'taking': 537,\n",
              " 'ahhh': 538,\n",
              " 'silver': 539,\n",
              " 'woke': 540,\n",
              " 'took': 541,\n",
              " 'skin': 542,\n",
              " 'loves': 543,\n",
              " 'hand': 544,\n",
              " 'wear': 545,\n",
              " 'side': 546,\n",
              " 'pain': 547,\n",
              " 'bro': 548,\n",
              " 'lunch': 549,\n",
              " 'prom': 550,\n",
              " 'means': 551,\n",
              " 'walk': 552,\n",
              " 'product': 553,\n",
              " 'reason': 554,\n",
              " 'short': 555,\n",
              " 'three': 556,\n",
              " 'forgot': 557,\n",
              " 'toy': 558,\n",
              " 'touch': 559,\n",
              " 'kind': 560,\n",
              " 'close': 561,\n",
              " 'art': 562,\n",
              " 'cover': 563,\n",
              " 'reading': 564,\n",
              " 'steel': 565,\n",
              " 'btw': 566,\n",
              " 'wit': 567,\n",
              " 'th': 568,\n",
              " 'loved': 569,\n",
              " 'collection': 570,\n",
              " 'box': 571,\n",
              " 'count': 572,\n",
              " 'study': 573,\n",
              " 'kitchen': 574,\n",
              " 'notebook': 575,\n",
              " 'h': 576,\n",
              " 'worry': 577,\n",
              " 'chance': 578,\n",
              " 'word': 579,\n",
              " 'post': 580,\n",
              " 'idea': 581,\n",
              " 'sports': 582,\n",
              " \"ain't\": 583,\n",
              " 'wont': 584,\n",
              " 'g': 585,\n",
              " 'mood': 586,\n",
              " 'style': 587,\n",
              " 'fast': 588,\n",
              " 'hahah': 589,\n",
              " 'bag': 590,\n",
              " 'large': 591,\n",
              " 'business': 592,\n",
              " \"we'll\": 593,\n",
              " 'young': 594,\n",
              " 'la': 595,\n",
              " 'break': 596,\n",
              " 'open': 597,\n",
              " 'city': 598,\n",
              " 'listen': 599,\n",
              " 'fall': 600,\n",
              " 'water': 601,\n",
              " 'dress': 602,\n",
              " 'kinda': 603,\n",
              " 'dinner': 604,\n",
              " 'quality': 605,\n",
              " 'paper': 606,\n",
              " 'ones': 607,\n",
              " 'sex': 608,\n",
              " 'support': 609,\n",
              " 'happened': 610,\n",
              " 'shirt': 611,\n",
              " 'uk': 612,\n",
              " 'pro': 613,\n",
              " 'card': 614,\n",
              " 'listening': 615,\n",
              " 'scared': 616,\n",
              " 'design': 617,\n",
              " '13': 618,\n",
              " 'die': 619,\n",
              " 'ff': 620,\n",
              " 'turn': 621,\n",
              " 'facebook': 622,\n",
              " 'plus': 623,\n",
              " 'feet': 624,\n",
              " 'sound': 625,\n",
              " 'thankyou': 626,\n",
              " 'leaving': 627,\n",
              " 'met': 628,\n",
              " 'busy': 629,\n",
              " 'pink': 630,\n",
              " 'problem': 631,\n",
              " 'direction': 632,\n",
              " 'started': 633,\n",
              " 'whats': 634,\n",
              " 'ddr': 635,\n",
              " 'electronics': 636,\n",
              " 'feels': 637,\n",
              " 'aint': 638,\n",
              " 'wall': 639,\n",
              " '14': 640,\n",
              " 'college': 641,\n",
              " 'knew': 642,\n",
              " 'apple': 643,\n",
              " 'everyday': 644,\n",
              " 'month': 645,\n",
              " 'finish': 646,\n",
              " 'cut': 647,\n",
              " 'understand': 648,\n",
              " 'words': 649,\n",
              " 'mum': 650,\n",
              " 'move': 651,\n",
              " 'london': 652,\n",
              " 'games': 653,\n",
              " 'manufactured': 654,\n",
              " 'rock': 655,\n",
              " 'leather': 656,\n",
              " 'alright': 657,\n",
              " 'release': 658,\n",
              " 'definitely': 659,\n",
              " 'sunday': 660,\n",
              " 'point': 661,\n",
              " 'dude': 662,\n",
              " 'songs': 663,\n",
              " 't': 664,\n",
              " 'lmfao': 665,\n",
              " 'account': 666,\n",
              " 'outside': 667,\n",
              " 'running': 668,\n",
              " 'upgrade': 669,\n",
              " 'dead': 670,\n",
              " 'totally': 671,\n",
              " 'eating': 672,\n",
              " 'smh': 673,\n",
              " 'anyway': 674,\n",
              " 'months': 675,\n",
              " 'tried': 676,\n",
              " 'yu': 677,\n",
              " 'lots': 678,\n",
              " 'shout': 679,\n",
              " 'double': 680,\n",
              " 'volume': 681,\n",
              " 'self': 682,\n",
              " 'sun': 683,\n",
              " 'kill': 684,\n",
              " 'tweeting': 685,\n",
              " 'asleep': 686,\n",
              " 'lets': 687,\n",
              " 'past': 688,\n",
              " 'girlfriend': 689,\n",
              " 'official': 690,\n",
              " '75': 691,\n",
              " 'online': 692,\n",
              " 'bet': 693,\n",
              " \"y'all\": 694,\n",
              " 'knows': 695,\n",
              " 'round': 696,\n",
              " 'nobody': 697,\n",
              " 'blog': 698,\n",
              " 'books': 699,\n",
              " 'drink': 700,\n",
              " 'different': 701,\n",
              " 'system': 702,\n",
              " 'band': 703,\n",
              " 'gave': 704,\n",
              " 'shower': 705,\n",
              " 'exam': 706,\n",
              " 'coffee': 707,\n",
              " 'chocolate': 708,\n",
              " 'cat': 709,\n",
              " 'air': 710,\n",
              " 'usb': 711,\n",
              " 'compatible': 712,\n",
              " 'pictures': 713,\n",
              " 'parents': 714,\n",
              " 'hahahaha': 715,\n",
              " '1gb': 716,\n",
              " 'kiss': 717,\n",
              " 'da': 718,\n",
              " 'learn': 719,\n",
              " 'ball': 720,\n",
              " 'plan': 721,\n",
              " \"women's\": 722,\n",
              " 'hungry': 723,\n",
              " '000': 724,\n",
              " 'iphone': 725,\n",
              " 'louis': 726,\n",
              " 'minutes': 727,\n",
              " 'weird': 728,\n",
              " 'kid': 729,\n",
              " 'em': 730,\n",
              " 'fat': 731,\n",
              " 'bestfriend': 732,\n",
              " 'ahh': 733,\n",
              " 'bus': 734,\n",
              " 'ice': 735,\n",
              " 'pick': 736,\n",
              " 'office': 737,\n",
              " 'answer': 738,\n",
              " 'april': 739,\n",
              " 'hug': 740,\n",
              " 'matter': 741,\n",
              " 'twitcam': 742,\n",
              " 'everybody': 743,\n",
              " 'trip': 744,\n",
              " 'tea': 745,\n",
              " 'asked': 746,\n",
              " 'clear': 747,\n",
              " 'pls': 748,\n",
              " \"who's\": 749,\n",
              " 'natural': 750,\n",
              " 'instead': 751,\n",
              " 'monday': 752,\n",
              " 'pair': 753,\n",
              " 'zayn': 754,\n",
              " '17': 755,\n",
              " 'somebody': 756,\n",
              " 'nd': 757,\n",
              " 'personal': 758,\n",
              " 'loool': 759,\n",
              " 'star': 760,\n",
              " 'version': 761,\n",
              " 'future': 762,\n",
              " 'cream': 763,\n",
              " 'travel': 764,\n",
              " '1d': 765,\n",
              " 'market': 766,\n",
              " 'broke': 767,\n",
              " 'cell': 768,\n",
              " 'hun': 769,\n",
              " 'sing': 770,\n",
              " 'died': 771,\n",
              " 'country': 772,\n",
              " 'print': 773,\n",
              " 'ugly': 774,\n",
              " 'page': 775,\n",
              " 'original': 776,\n",
              " 'mr': 777,\n",
              " 'front': 778,\n",
              " 'starting': 779,\n",
              " 'visit': 780,\n",
              " 'save': 781,\n",
              " 'wonder': 782,\n",
              " 'deal': 783,\n",
              " 'sleeping': 784,\n",
              " 'ive': 785,\n",
              " 'write': 786,\n",
              " 'bye': 787,\n",
              " 'ohh': 788,\n",
              " 'congrats': 789,\n",
              " 'living': 790,\n",
              " 'lady': 791,\n",
              " 'fb': 792,\n",
              " 'fact': 793,\n",
              " 'link': 794,\n",
              " 'capacity': 795,\n",
              " 'ipad': 796,\n",
              " 'xd': 797,\n",
              " 'computer': 798,\n",
              " 'hold': 799,\n",
              " 'works': 800,\n",
              " 'dreams': 801,\n",
              " 'ring': 802,\n",
              " '1st': 803,\n",
              " 'line': 804,\n",
              " 'aha': 805,\n",
              " 'stand': 806,\n",
              " 'homework': 807,\n",
              " 'imma': 808,\n",
              " 'ppl': 809,\n",
              " 'cried': 810,\n",
              " 'type': 811,\n",
              " 'worth': 812,\n",
              " 'finished': 813,\n",
              " 'radio': 814,\n",
              " 'inside': 815,\n",
              " 'thursday': 816,\n",
              " 'mate': 817,\n",
              " 'catch': 818,\n",
              " 'men': 819,\n",
              " 'gym': 820,\n",
              " 'length': 821,\n",
              " 'movies': 822,\n",
              " 'press': 823,\n",
              " 'exactly': 824,\n",
              " 'woman': 825,\n",
              " 'less': 826,\n",
              " 'french': 827,\n",
              " 'beat': 828,\n",
              " 'misc': 829,\n",
              " 'compaq': 830,\n",
              " 'town': 831,\n",
              " '2nd': 832,\n",
              " 'club': 833,\n",
              " 'sitting': 834,\n",
              " 'practice': 835,\n",
              " 'add': 836,\n",
              " 'couple': 837,\n",
              " 'adapter': 838,\n",
              " 'beach': 839,\n",
              " 'shall': 840,\n",
              " 'mini': 841,\n",
              " 'join': 842,\n",
              " 'yall': 843,\n",
              " 'upset': 844,\n",
              " 'yellow': 845,\n",
              " 'smoke': 846,\n",
              " 'havent': 847,\n",
              " 'seems': 848,\n",
              " 'sent': 849,\n",
              " 'bday': 850,\n",
              " 'dual': 851,\n",
              " 'fit': 852,\n",
              " 'library': 853,\n",
              " 'stories': 854,\n",
              " 'track': 855,\n",
              " 'hang': 856,\n",
              " 'mobile': 857,\n",
              " \"men's\": 858,\n",
              " 'cake': 859,\n",
              " 'swear': 860,\n",
              " 'wonderful': 861,\n",
              " 'eye': 862,\n",
              " 'low': 863,\n",
              " 'science': 864,\n",
              " 'behind': 865,\n",
              " 'goin': 866,\n",
              " 'wtf': 867,\n",
              " 'gorgeous': 868,\n",
              " 'id': 869,\n",
              " 'piece': 870,\n",
              " 'sold': 871,\n",
              " 'women': 872,\n",
              " 'bar': 873,\n",
              " 'loving': 874,\n",
              " '512mb': 875,\n",
              " 'cos': 876,\n",
              " 'performance': 877,\n",
              " 'film': 878,\n",
              " 'mother': 879,\n",
              " 'quick': 880,\n",
              " 'stainless': 881,\n",
              " 'extra': 882,\n",
              " 'death': 883,\n",
              " 'yougetmajorpointsif': 884,\n",
              " 'promise': 885,\n",
              " 'horrible': 886,\n",
              " 'whatever': 887,\n",
              " 'o': 888,\n",
              " 'america': 889,\n",
              " 'meee': 890,\n",
              " 'watched': 891,\n",
              " 'using': 892,\n",
              " '33': 893,\n",
              " 'imagine': 894,\n",
              " 'ohhh': 895,\n",
              " 'nigga': 896,\n",
              " 'road': 897,\n",
              " 'giving': 898,\n",
              " 'bought': 899,\n",
              " 'sis': 900,\n",
              " 'trust': 901,\n",
              " 'youu': 902,\n",
              " 'football': 903,\n",
              " 'ii': 904,\n",
              " 'boring': 905,\n",
              " 'dnt': 906,\n",
              " 'available': 907,\n",
              " 'written': 908,\n",
              " 'ex': 909,\n",
              " 'features': 910,\n",
              " 'fair': 911,\n",
              " 'bless': 912,\n",
              " 'step': 913,\n",
              " 'nap': 914,\n",
              " 'screw': 915,\n",
              " 'includes': 916,\n",
              " 'lose': 917,\n",
              " 'agree': 918,\n",
              " 'designed': 919,\n",
              " 'four': 920,\n",
              " 'pavilion': 921,\n",
              " 'mass': 922,\n",
              " 'taken': 923,\n",
              " 'jus': 924,\n",
              " 'chill': 925,\n",
              " 'safe': 926,\n",
              " 'quite': 927,\n",
              " 'jk': 928,\n",
              " 'pics': 929,\n",
              " 'til': 930,\n",
              " 'tweeted': 931,\n",
              " 'strong': 932,\n",
              " 'gunna': 933,\n",
              " 'nope': 934,\n",
              " 'episode': 935,\n",
              " 'mention': 936,\n",
              " 'novel': 937,\n",
              " 'straight': 938,\n",
              " '26': 939,\n",
              " 'meant': 940,\n",
              " 'walnut': 941,\n",
              " 'looked': 942,\n",
              " 'child': 943,\n",
              " 'list': 944,\n",
              " 'tears': 945,\n",
              " 'headache': 946,\n",
              " 'shoes': 947,\n",
              " 'takes': 948,\n",
              " 'in': 949,\n",
              " 'cannot': 950,\n",
              " 'secret': 951,\n",
              " '40': 952,\n",
              " 'fell': 953,\n",
              " 'player': 954,\n",
              " 'cup': 955,\n",
              " 'wife': 956,\n",
              " 'anti': 957,\n",
              " 'fits': 958,\n",
              " 'de': 959,\n",
              " 'john': 960,\n",
              " 'simple': 961,\n",
              " 'ride': 962,\n",
              " 'protector': 963,\n",
              " 'charger': 964,\n",
              " 'plug': 965,\n",
              " '21': 966,\n",
              " 'gift': 967,\n",
              " 'dick': 968,\n",
              " 'war': 969,\n",
              " 'st': 970,\n",
              " 'teacher': 971,\n",
              " 'walking': 972,\n",
              " 'huge': 973,\n",
              " 'pay': 974,\n",
              " 'shopping': 975,\n",
              " 'ladies': 976,\n",
              " 'yep': 977,\n",
              " 'fire': 978,\n",
              " 'alll': 979,\n",
              " 'others': 980,\n",
              " 'grade': 981,\n",
              " 'felt': 982,\n",
              " 'relationship': 983,\n",
              " 'plans': 984,\n",
              " 'stuck': 985,\n",
              " 'choice': 986,\n",
              " 'sigh': 987,\n",
              " 'lexerd': 988,\n",
              " '32': 989,\n",
              " 'june': 990,\n",
              " 'chelsea': 991,\n",
              " 'youtube': 992,\n",
              " 'york': 993,\n",
              " 'needed': 994,\n",
              " 'eh': 995,\n",
              " 'chicken': 996,\n",
              " 'tooo': 997,\n",
              " 'goodmorning': 998,\n",
              " 'final': 999,\n",
              " 'follows': 1000,\n",
              " ...}"
            ]
          },
          "metadata": {
            "tags": []
          },
          "execution_count": 121
        }
      ]
    },
    {
      "metadata": {
        "id": "jnSyJwChulVV",
        "colab_type": "code",
        "colab": {
          "autoexec": {
            "startup": false,
            "wait_interval": 0
          },
          "base_uri": "https://localhost:8080/",
          "height": 459
        },
        "outputId": "684e875d-8f1d-42b6-d98b-524c9f9c78e7",
        "executionInfo": {
          "status": "ok",
          "timestamp": 1529239706528,
          "user_tz": -330,
          "elapsed": 1168,
          "user": {
            "displayName": "Divyam Srivastava",
            "photoUrl": "//lh3.googleusercontent.com/-WZcfnp5pNtk/AAAAAAAAAAI/AAAAAAAAAXo/yGhBvt-FNho/s50-c-k-no/photo.jpg",
            "userId": "112121959970026521392"
          }
        }
      },
      "cell_type": "code",
      "source": [
        "model1 = Sequential()\n",
        "model1.add(Embedding(508195, 10, input_length=65))\n",
        "model1.add(Conv1D(32, 3, input_shape=(65,10), padding='same', activation='relu'))\n",
        "model1.add(MaxPooling1D(pool_size=2))\n",
        "model1.add(Conv1D(64, 3, padding='same', activation='relu'))\n",
        "model1.add(MaxPooling1D(pool_size=2))\n",
        "model1.add(Flatten())\n",
        "model1.add(Dense(800, activation='relu'))\n",
        "model1.add(Dropout(0.5))\n",
        "model1.add(Dense(1, activation='sigmoid'))\n",
        "model1.compile(loss='binary_crossentropy', optimizer='adam', metrics=['accuracy'])\n",
        "print(model1.summary())"
      ],
      "execution_count": 127,
      "outputs": [
        {
          "output_type": "stream",
          "text": [
            "_________________________________________________________________\n",
            "Layer (type)                 Output Shape              Param #   \n",
            "=================================================================\n",
            "embedding_3 (Embedding)      (None, 65, 10)            5081950   \n",
            "_________________________________________________________________\n",
            "conv1d_66 (Conv1D)           (None, 65, 32)            992       \n",
            "_________________________________________________________________\n",
            "max_pooling1d_65 (MaxPooling (None, 32, 32)            0         \n",
            "_________________________________________________________________\n",
            "conv1d_67 (Conv1D)           (None, 32, 64)            6208      \n",
            "_________________________________________________________________\n",
            "max_pooling1d_66 (MaxPooling (None, 16, 64)            0         \n",
            "_________________________________________________________________\n",
            "flatten_12 (Flatten)         (None, 1024)              0         \n",
            "_________________________________________________________________\n",
            "dense_37 (Dense)             (None, 800)               820000    \n",
            "_________________________________________________________________\n",
            "dropout_27 (Dropout)         (None, 800)               0         \n",
            "_________________________________________________________________\n",
            "dense_38 (Dense)             (None, 1)                 801       \n",
            "=================================================================\n",
            "Total params: 5,909,951\n",
            "Trainable params: 5,909,951\n",
            "Non-trainable params: 0\n",
            "_________________________________________________________________\n",
            "None\n"
          ],
          "name": "stdout"
        }
      ]
    },
    {
      "metadata": {
        "id": "xP-YwqPux7uB",
        "colab_type": "code",
        "colab": {
          "autoexec": {
            "startup": false,
            "wait_interval": 0
          },
          "base_uri": "https://localhost:8080/",
          "height": 241
        },
        "outputId": "b62074b4-4218-40e7-97e4-e3aaaaaef0f4",
        "executionInfo": {
          "status": "ok",
          "timestamp": 1529240208226,
          "user_tz": -330,
          "elapsed": 245365,
          "user": {
            "displayName": "Divyam Srivastava",
            "photoUrl": "//lh3.googleusercontent.com/-WZcfnp5pNtk/AAAAAAAAAAI/AAAAAAAAAXo/yGhBvt-FNho/s50-c-k-no/photo.jpg",
            "userId": "112121959970026521392"
          }
        }
      },
      "cell_type": "code",
      "source": [
        "model1.fit(X_train_E, y_train, validation_split = 0.2, epochs=5, batch_size=1000)"
      ],
      "execution_count": 138,
      "outputs": [
        {
          "output_type": "stream",
          "text": [
            "Train on 1600000 samples, validate on 400000 samples\n",
            "Epoch 1/5\n",
            "1321000/1600000 [=======================>......] - ETA: 8s - loss: 0.4085 - acc: 0.8046"
          ],
          "name": "stdout"
        },
        {
          "output_type": "stream",
          "text": [
            "1600000/1600000 [==============================] - 50s 31us/step - loss: 0.4031 - acc: 0.8078 - val_loss: 0.3746 - val_acc: 0.8248\n",
            "Epoch 2/5\n",
            " 763000/1600000 [=============>................] - ETA: 24s - loss: 0.3370 - acc: 0.8469"
          ],
          "name": "stdout"
        },
        {
          "output_type": "stream",
          "text": [
            "1600000/1600000 [==============================] - 48s 30us/step - loss: 0.3380 - acc: 0.8462 - val_loss: 0.3733 - val_acc: 0.8253\n",
            "Epoch 3/5\n",
            " 549000/1600000 [=========>....................] - ETA: 30s - loss: 0.2935 - acc: 0.8696"
          ],
          "name": "stdout"
        },
        {
          "output_type": "stream",
          "text": [
            "1600000/1600000 [==============================] - 49s 30us/step - loss: 0.2990 - acc: 0.8666 - val_loss: 0.3899 - val_acc: 0.8252\n",
            "Epoch 4/5\n",
            " 467000/1600000 [=======>......................] - ETA: 33s - loss: 0.2625 - acc: 0.8846"
          ],
          "name": "stdout"
        },
        {
          "output_type": "stream",
          "text": [
            "1600000/1600000 [==============================] - 48s 30us/step - loss: 0.2715 - acc: 0.8798 - val_loss: 0.4108 - val_acc: 0.8229\n",
            "Epoch 5/5\n",
            " 435000/1600000 [=======>......................] - ETA: 33s - loss: 0.2424 - acc: 0.8930"
          ],
          "name": "stdout"
        },
        {
          "output_type": "stream",
          "text": [
            "1600000/1600000 [==============================] - 48s 30us/step - loss: 0.2515 - acc: 0.8888 - val_loss: 0.4326 - val_acc: 0.8211\n"
          ],
          "name": "stdout"
        },
        {
          "output_type": "execute_result",
          "data": {
            "text/plain": [
              "<keras.callbacks.History at 0x7f40e6721a58>"
            ]
          },
          "metadata": {
            "tags": []
          },
          "execution_count": 138
        }
      ]
    },
    {
      "metadata": {
        "id": "ZdREBEGuyZsh",
        "colab_type": "code",
        "colab": {
          "autoexec": {
            "startup": false,
            "wait_interval": 0
          },
          "base_uri": "https://localhost:8080/",
          "height": 34
        },
        "outputId": "e8a174cc-09e7-4529-ef4b-98eab0718db8",
        "executionInfo": {
          "status": "ok",
          "timestamp": 1529240300653,
          "user_tz": -330,
          "elapsed": 53234,
          "user": {
            "displayName": "Divyam Srivastava",
            "photoUrl": "//lh3.googleusercontent.com/-WZcfnp5pNtk/AAAAAAAAAAI/AAAAAAAAAXo/yGhBvt-FNho/s50-c-k-no/photo.jpg",
            "userId": "112121959970026521392"
          }
        }
      },
      "cell_type": "code",
      "source": [
        "scores = model1.evaluate(X_test_E,y_test,verbose = 0)\n",
        "print(\"Accuracy: %.2f%%\" % (scores[1]*100))"
      ],
      "execution_count": 140,
      "outputs": [
        {
          "output_type": "stream",
          "text": [
            "Accuracy: 81.99%\n"
          ],
          "name": "stdout"
        }
      ]
    },
    {
      "metadata": {
        "id": "E_u4GuIU0j1h",
        "colab_type": "code",
        "colab": {
          "autoexec": {
            "startup": false,
            "wait_interval": 0
          }
        }
      },
      "cell_type": "code",
      "source": [
        ""
      ],
      "execution_count": 0,
      "outputs": []
    }
  ]
}